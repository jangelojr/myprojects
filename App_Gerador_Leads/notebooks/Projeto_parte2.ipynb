{
  "nbformat": 4,
  "nbformat_minor": 0,
  "metadata": {
    "colab": {
      "name": "ProjetoCodeNation2.ipynb",
      "provenance": [],
      "collapsed_sections": []
    },
    "kernelspec": {
      "name": "python3",
      "display_name": "Python 3"
    }
  },
  "cells": [
    {
      "cell_type": "markdown",
      "metadata": {
        "id": "_RDWZ7QJKiKr",
        "colab_type": "text"
      },
      "source": [
        "# Projeto Final CODENATION::Data Science\n",
        "### Autor: José Ângelo de Assis Júnior\n",
        "\n",
        "## Objetivo Principal\n",
        "Criar um sistema automatizado que recomenda leads a partir de uma lista\n",
        "\n",
        "## Objetivos deste Notebook\n",
        "Parte 2 da criação de modelo de Machine Learning capaz de classificar cliente"
      ]
    },
    {
      "cell_type": "code",
      "metadata": {
        "id": "n1F_3sxfKoNQ",
        "colab_type": "code",
        "colab": {
          "base_uri": "https://localhost:8080/",
          "height": 51
        },
        "outputId": "03021c99-63d1-4f90-c2cb-609ce9359cfc"
      },
      "source": [
        "import numpy  as np\n",
        "import pandas as pd\n",
        "\n",
        "# recarregar os dados\n",
        "from google.colab import drive\n",
        "drive.mount('/content/drive/')\n",
        "\n",
        "mercado    = pd.read_csv('/content/drive/My Drive/codenation/codeNation/Projeto/data/mercado.csv')\n",
        "portfolio1 = pd.read_csv('/content/drive/My Drive/codenation/codeNation/Projeto/data/portfolio1.csv')\n",
        "portfolio2 = pd.read_csv('/content/drive/My Drive/codenation/codeNation/Projeto/data/portfolio2.csv')\n",
        "portfolio3 = pd.read_csv('/content/drive/My Drive/codenation/codeNation/Projeto/data/portfolio3.csv')\n",
        "\n",
        "mercado.shape, portfolio1.shape, portfolio2.shape, portfolio3.shape"
      ],
      "execution_count": null,
      "outputs": [
        {
          "output_type": "stream",
          "text": [
            "Drive already mounted at /content/drive/; to attempt to forcibly remount, call drive.mount(\"/content/drive/\", force_remount=True).\n"
          ],
          "name": "stdout"
        },
        {
          "output_type": "execute_result",
          "data": {
            "text/plain": [
              "((462298, 43), (555, 43), (566, 43), (265, 43))"
            ]
          },
          "metadata": {
            "tags": []
          },
          "execution_count": 1
        }
      ]
    },
    {
      "cell_type": "markdown",
      "metadata": {
        "id": "3x7E7bleLevD",
        "colab_type": "text"
      },
      "source": [
        "Treinamento do modelo com o melhor número de clusters identificado na parte 1"
      ]
    },
    {
      "cell_type": "code",
      "metadata": {
        "id": "FUAvZD_OKRdx",
        "colab_type": "code",
        "colab": {}
      },
      "source": [
        "from sklearn.cluster import KMeans\n",
        "\n",
        "X = mercado.drop(['sg_uf', 'id'], axis=1)\n",
        "\n",
        "kmeans = KMeans(n_clusters = 4, init = 'random', n_init = 50, algorithm = 'full').fit(X)"
      ],
      "execution_count": null,
      "outputs": []
    },
    {
      "cell_type": "markdown",
      "metadata": {
        "id": "_YI9g_49M9eK",
        "colab_type": "text"
      },
      "source": [
        "Gerar os clusters para os conjuntos de dados"
      ]
    },
    {
      "cell_type": "code",
      "metadata": {
        "id": "SU-bbloBNBBP",
        "colab_type": "code",
        "colab": {}
      },
      "source": [
        "mercado_clusters    = kmeans.predict(X)\n",
        "portfolio1_clusters = kmeans.predict(portfolio1.drop(['sg_uf', 'id'], axis=1))\n",
        "portfolio2_clusters = kmeans.predict(portfolio2.drop(['sg_uf', 'id'], axis=1))\n",
        "portfolio3_clusters = kmeans.predict(portfolio3.drop(['sg_uf', 'id'], axis=1))"
      ],
      "execution_count": null,
      "outputs": []
    },
    {
      "cell_type": "markdown",
      "metadata": {
        "id": "guxdAf4Tw4WQ",
        "colab_type": "text"
      },
      "source": [
        "Calcular as distâncias até os clusters"
      ]
    },
    {
      "cell_type": "code",
      "metadata": {
        "id": "Au_ZgQroxBkH",
        "colab_type": "code",
        "colab": {}
      },
      "source": [
        "mercado_dist    = kmeans.transform(X)\n",
        "portfolio1_dist = kmeans.transform(portfolio1.drop(['sg_uf', 'id'], axis=1))\n",
        "portfolio2_dist = kmeans.transform(portfolio2.drop(['sg_uf', 'id'], axis=1))\n",
        "portfolio3_dist = kmeans.transform(portfolio3.drop(['sg_uf', 'id'], axis=1))"
      ],
      "execution_count": null,
      "outputs": []
    },
    {
      "cell_type": "code",
      "metadata": {
        "id": "xDs5o4pVx3Ya",
        "colab_type": "code",
        "colab": {}
      },
      "source": [
        "mercado['cluster'] = mercado_clusters"
      ],
      "execution_count": null,
      "outputs": []
    },
    {
      "cell_type": "code",
      "metadata": {
        "id": "Z-e3NGBQyb33",
        "colab_type": "code",
        "colab": {}
      },
      "source": [
        "mercado['dist_centroide'] = np.amin(mercado_dist, 1)"
      ],
      "execution_count": null,
      "outputs": []
    },
    {
      "cell_type": "code",
      "metadata": {
        "id": "A8mC97MTyqlM",
        "colab_type": "code",
        "colab": {
          "base_uri": "https://localhost:8080/",
          "height": 241
        },
        "outputId": "e55976c4-c4da-43f1-d7e0-57af00b0cbb7"
      },
      "source": [
        "mercado.head()"
      ],
      "execution_count": null,
      "outputs": [
        {
          "output_type": "execute_result",
          "data": {
            "text/html": [
              "<div>\n",
              "<style scoped>\n",
              "    .dataframe tbody tr th:only-of-type {\n",
              "        vertical-align: middle;\n",
              "    }\n",
              "\n",
              "    .dataframe tbody tr th {\n",
              "        vertical-align: top;\n",
              "    }\n",
              "\n",
              "    .dataframe thead th {\n",
              "        text-align: right;\n",
              "    }\n",
              "</style>\n",
              "<table border=\"1\" class=\"dataframe\">\n",
              "  <thead>\n",
              "    <tr style=\"text-align: right;\">\n",
              "      <th></th>\n",
              "      <th>sg_uf</th>\n",
              "      <th>id</th>\n",
              "      <th>idade_empresa_anos</th>\n",
              "      <th>fl_email</th>\n",
              "      <th>fl_telefone</th>\n",
              "      <th>fl_rm</th>\n",
              "      <th>fl_veiculo</th>\n",
              "      <th>vl_total_veiculos_pesados_grupo</th>\n",
              "      <th>vl_total_veiculos_leves_grupo</th>\n",
              "      <th>nu_meses_rescencia</th>\n",
              "      <th>qt_coligados</th>\n",
              "      <th>qt_ufs_coligados</th>\n",
              "      <th>qt_ramos_coligados</th>\n",
              "      <th>media_vl_folha_coligados</th>\n",
              "      <th>media_vl_folha_coligados_gp</th>\n",
              "      <th>media_faturamento_est_coligados</th>\n",
              "      <th>qt_coligadas</th>\n",
              "      <th>sum_faturamento_estimado_coligadas</th>\n",
              "      <th>vl_faturamento_estimado_grupo_aux</th>\n",
              "      <th>qt_filiais</th>\n",
              "      <th>qt_total_socios_pj</th>\n",
              "      <th>de_saude_tributaria_VERDE</th>\n",
              "      <th>de_saude_tributaria_CINZA</th>\n",
              "      <th>de_saude_tributaria_AMARELO</th>\n",
              "      <th>de_saude_tributaria_LARANJA</th>\n",
              "      <th>de_saude_tributaria_AZUL</th>\n",
              "      <th>de_saude_tributaria_VERMELHO</th>\n",
              "      <th>de_nivel_atividade_ALTA</th>\n",
              "      <th>de_nivel_atividade_BAIXA</th>\n",
              "      <th>de_nivel_atividade_MEDIA</th>\n",
              "      <th>de_saude_rescencia_ACIMA DE 1 ANO</th>\n",
              "      <th>de_saude_rescencia_ATE 1 ANO</th>\n",
              "      <th>de_saude_rescencia_SEM INFORMACAO</th>\n",
              "      <th>de_saude_rescencia_ATE 6 MESES</th>\n",
              "      <th>Area_Territorial</th>\n",
              "      <th>População_estimada</th>\n",
              "      <th>Densidade_demográfica</th>\n",
              "      <th>Matrículas_ensino_fundamental</th>\n",
              "      <th>IDH_2010</th>\n",
              "      <th>Receitas_realizadas_2017</th>\n",
              "      <th>Despesas_empenhadas_2017</th>\n",
              "      <th>Rendimento_mensal_domiciliar_per_capita_2019</th>\n",
              "      <th>Total_veIculos_2018</th>\n",
              "      <th>cluster</th>\n",
              "      <th>dist_centroide</th>\n",
              "    </tr>\n",
              "  </thead>\n",
              "  <tbody>\n",
              "    <tr>\n",
              "      <th>0</th>\n",
              "      <td>AC</td>\n",
              "      <td>5124a4ed965efeccdf43cd402f05d127f5e87fcc2d88f7...</td>\n",
              "      <td>0.006823</td>\n",
              "      <td>True</td>\n",
              "      <td>True</td>\n",
              "      <td>False</td>\n",
              "      <td>False</td>\n",
              "      <td>0.000000</td>\n",
              "      <td>0.000000</td>\n",
              "      <td>0.348485</td>\n",
              "      <td>0.001183</td>\n",
              "      <td>0.0</td>\n",
              "      <td>0.000000</td>\n",
              "      <td>0.000000</td>\n",
              "      <td>0.000000</td>\n",
              "      <td>0.000000</td>\n",
              "      <td>0.0</td>\n",
              "      <td>0.0</td>\n",
              "      <td>7.584469e-07</td>\n",
              "      <td>0.000000</td>\n",
              "      <td>0.0</td>\n",
              "      <td>0.0</td>\n",
              "      <td>1.0</td>\n",
              "      <td>0.0</td>\n",
              "      <td>0.0</td>\n",
              "      <td>0.0</td>\n",
              "      <td>0.0</td>\n",
              "      <td>0.0</td>\n",
              "      <td>0.0</td>\n",
              "      <td>1.0</td>\n",
              "      <td>0.0</td>\n",
              "      <td>0.0</td>\n",
              "      <td>1.0</td>\n",
              "      <td>0.0</td>\n",
              "      <td>0.073896</td>\n",
              "      <td>0.0</td>\n",
              "      <td>0.038781</td>\n",
              "      <td>0.0</td>\n",
              "      <td>0.470588</td>\n",
              "      <td>0.0</td>\n",
              "      <td>0.0</td>\n",
              "      <td>0.508</td>\n",
              "      <td>0.0</td>\n",
              "      <td>2</td>\n",
              "      <td>1.819693</td>\n",
              "    </tr>\n",
              "    <tr>\n",
              "      <th>1</th>\n",
              "      <td>AC</td>\n",
              "      <td>8a584390e7b2fba5ef33a51b2f8fd63bd202194db3e5ee...</td>\n",
              "      <td>0.064801</td>\n",
              "      <td>True</td>\n",
              "      <td>True</td>\n",
              "      <td>False</td>\n",
              "      <td>False</td>\n",
              "      <td>0.003987</td>\n",
              "      <td>0.003194</td>\n",
              "      <td>0.727273</td>\n",
              "      <td>0.027219</td>\n",
              "      <td>0.2</td>\n",
              "      <td>0.186047</td>\n",
              "      <td>0.054234</td>\n",
              "      <td>0.003665</td>\n",
              "      <td>0.023703</td>\n",
              "      <td>0.0</td>\n",
              "      <td>0.0</td>\n",
              "      <td>1.000000e+00</td>\n",
              "      <td>0.796828</td>\n",
              "      <td>0.0</td>\n",
              "      <td>1.0</td>\n",
              "      <td>0.0</td>\n",
              "      <td>0.0</td>\n",
              "      <td>0.0</td>\n",
              "      <td>0.0</td>\n",
              "      <td>0.0</td>\n",
              "      <td>1.0</td>\n",
              "      <td>0.0</td>\n",
              "      <td>0.0</td>\n",
              "      <td>1.0</td>\n",
              "      <td>0.0</td>\n",
              "      <td>0.0</td>\n",
              "      <td>0.0</td>\n",
              "      <td>0.073896</td>\n",
              "      <td>0.0</td>\n",
              "      <td>0.038781</td>\n",
              "      <td>0.0</td>\n",
              "      <td>0.470588</td>\n",
              "      <td>0.0</td>\n",
              "      <td>0.0</td>\n",
              "      <td>0.508</td>\n",
              "      <td>0.0</td>\n",
              "      <td>3</td>\n",
              "      <td>2.061845</td>\n",
              "    </tr>\n",
              "    <tr>\n",
              "      <th>2</th>\n",
              "      <td>AC</td>\n",
              "      <td>140241eb6bdccbf0ba69739cdb9ca1e0bf4e795125aee2...</td>\n",
              "      <td>0.069384</td>\n",
              "      <td>False</td>\n",
              "      <td>True</td>\n",
              "      <td>False</td>\n",
              "      <td>False</td>\n",
              "      <td>0.000000</td>\n",
              "      <td>0.000000</td>\n",
              "      <td>0.348485</td>\n",
              "      <td>0.001183</td>\n",
              "      <td>0.0</td>\n",
              "      <td>0.000000</td>\n",
              "      <td>0.000000</td>\n",
              "      <td>0.000000</td>\n",
              "      <td>0.000000</td>\n",
              "      <td>0.0</td>\n",
              "      <td>0.0</td>\n",
              "      <td>7.584469e-07</td>\n",
              "      <td>0.000000</td>\n",
              "      <td>0.0</td>\n",
              "      <td>0.0</td>\n",
              "      <td>0.0</td>\n",
              "      <td>0.0</td>\n",
              "      <td>0.0</td>\n",
              "      <td>1.0</td>\n",
              "      <td>0.0</td>\n",
              "      <td>1.0</td>\n",
              "      <td>0.0</td>\n",
              "      <td>0.0</td>\n",
              "      <td>1.0</td>\n",
              "      <td>0.0</td>\n",
              "      <td>0.0</td>\n",
              "      <td>0.0</td>\n",
              "      <td>0.073896</td>\n",
              "      <td>0.0</td>\n",
              "      <td>0.038781</td>\n",
              "      <td>0.0</td>\n",
              "      <td>0.470588</td>\n",
              "      <td>0.0</td>\n",
              "      <td>0.0</td>\n",
              "      <td>0.508</td>\n",
              "      <td>0.0</td>\n",
              "      <td>3</td>\n",
              "      <td>1.732713</td>\n",
              "    </tr>\n",
              "    <tr>\n",
              "      <th>3</th>\n",
              "      <td>AC</td>\n",
              "      <td>c5e70d47fe82cf519287e51c21d9557f821c74dde25eb2...</td>\n",
              "      <td>0.312085</td>\n",
              "      <td>False</td>\n",
              "      <td>False</td>\n",
              "      <td>False</td>\n",
              "      <td>False</td>\n",
              "      <td>0.028931</td>\n",
              "      <td>0.017479</td>\n",
              "      <td>0.818182</td>\n",
              "      <td>0.001183</td>\n",
              "      <td>0.0</td>\n",
              "      <td>0.000000</td>\n",
              "      <td>0.000000</td>\n",
              "      <td>0.000000</td>\n",
              "      <td>0.000000</td>\n",
              "      <td>0.0</td>\n",
              "      <td>0.0</td>\n",
              "      <td>1.619387e-01</td>\n",
              "      <td>0.057945</td>\n",
              "      <td>0.0</td>\n",
              "      <td>0.0</td>\n",
              "      <td>0.0</td>\n",
              "      <td>0.0</td>\n",
              "      <td>0.0</td>\n",
              "      <td>0.0</td>\n",
              "      <td>1.0</td>\n",
              "      <td>0.0</td>\n",
              "      <td>0.0</td>\n",
              "      <td>1.0</td>\n",
              "      <td>1.0</td>\n",
              "      <td>0.0</td>\n",
              "      <td>0.0</td>\n",
              "      <td>0.0</td>\n",
              "      <td>0.073896</td>\n",
              "      <td>0.0</td>\n",
              "      <td>0.038781</td>\n",
              "      <td>0.0</td>\n",
              "      <td>0.470588</td>\n",
              "      <td>0.0</td>\n",
              "      <td>0.0</td>\n",
              "      <td>0.508</td>\n",
              "      <td>0.0</td>\n",
              "      <td>1</td>\n",
              "      <td>1.787742</td>\n",
              "    </tr>\n",
              "    <tr>\n",
              "      <th>4</th>\n",
              "      <td>AC</td>\n",
              "      <td>2a034ebd67224b1b823422411890c5adb6e954475a232b...</td>\n",
              "      <td>0.031281</td>\n",
              "      <td>True</td>\n",
              "      <td>True</td>\n",
              "      <td>False</td>\n",
              "      <td>False</td>\n",
              "      <td>0.000000</td>\n",
              "      <td>0.000000</td>\n",
              "      <td>0.348485</td>\n",
              "      <td>0.001183</td>\n",
              "      <td>0.0</td>\n",
              "      <td>0.000000</td>\n",
              "      <td>0.000000</td>\n",
              "      <td>0.000000</td>\n",
              "      <td>0.000000</td>\n",
              "      <td>0.0</td>\n",
              "      <td>0.0</td>\n",
              "      <td>4.019079e-08</td>\n",
              "      <td>0.000000</td>\n",
              "      <td>0.0</td>\n",
              "      <td>1.0</td>\n",
              "      <td>0.0</td>\n",
              "      <td>0.0</td>\n",
              "      <td>0.0</td>\n",
              "      <td>0.0</td>\n",
              "      <td>0.0</td>\n",
              "      <td>1.0</td>\n",
              "      <td>0.0</td>\n",
              "      <td>0.0</td>\n",
              "      <td>1.0</td>\n",
              "      <td>0.0</td>\n",
              "      <td>0.0</td>\n",
              "      <td>0.0</td>\n",
              "      <td>0.073896</td>\n",
              "      <td>0.0</td>\n",
              "      <td>0.038781</td>\n",
              "      <td>0.0</td>\n",
              "      <td>0.470588</td>\n",
              "      <td>0.0</td>\n",
              "      <td>0.0</td>\n",
              "      <td>0.508</td>\n",
              "      <td>0.0</td>\n",
              "      <td>3</td>\n",
              "      <td>1.565848</td>\n",
              "    </tr>\n",
              "  </tbody>\n",
              "</table>\n",
              "</div>"
            ],
            "text/plain": [
              "  sg_uf  ... dist_centroide\n",
              "0    AC  ...       1.819693\n",
              "1    AC  ...       2.061845\n",
              "2    AC  ...       1.732713\n",
              "3    AC  ...       1.787742\n",
              "4    AC  ...       1.565848\n",
              "\n",
              "[5 rows x 45 columns]"
            ]
          },
          "metadata": {
            "tags": []
          },
          "execution_count": 7
        }
      ]
    },
    {
      "cell_type": "code",
      "metadata": {
        "id": "94qKZ7nP1JYa",
        "colab_type": "code",
        "colab": {
          "base_uri": "https://localhost:8080/",
          "height": 35
        },
        "outputId": "0c800260-175c-4803-f779-3968a74d3926"
      },
      "source": [
        "mercado.id[5]"
      ],
      "execution_count": null,
      "outputs": [
        {
          "output_type": "execute_result",
          "data": {
            "application/vnd.google.colaboratory.intrinsic+json": {
              "type": "string"
            },
            "text/plain": [
              "'6953e6aa0e4a447a84048a9c46ab897f60a136eb311490db1e06d684b9fc2456'"
            ]
          },
          "metadata": {
            "tags": []
          },
          "execution_count": 8
        }
      ]
    },
    {
      "cell_type": "code",
      "metadata": {
        "id": "oCYu8MPN1Jbl",
        "colab_type": "code",
        "colab": {
          "base_uri": "https://localhost:8080/",
          "height": 34
        },
        "outputId": "0af941b5-8937-43c7-d99b-feae5f2e3c92"
      },
      "source": [
        "# Captura o cluster do id\n",
        "cluster_do_id     = mercado[mercado['id'] == '6953e6aa0e4a447a84048a9c46ab897f60a136eb311490db1e06d684b9fc2456']['cluster'].values[0]\n",
        "\n",
        "# Captura a distância do id para o centroide de seu cluster\n",
        "dist_centroide_id = mercado[mercado['id'] == '6953e6aa0e4a447a84048a9c46ab897f60a136eb311490db1e06d684b9fc2456']['dist_centroide'].values[0]\n",
        "\n",
        "cluster_do_id, dist_centroide_id"
      ],
      "execution_count": null,
      "outputs": [
        {
          "output_type": "execute_result",
          "data": {
            "text/plain": [
              "(3, 1.7181289709106713)"
            ]
          },
          "metadata": {
            "tags": []
          },
          "execution_count": 9
        }
      ]
    },
    {
      "cell_type": "code",
      "metadata": {
        "id": "52slwYod2FFc",
        "colab_type": "code",
        "colab": {}
      },
      "source": [
        "# Todo o conjunto de dados do cluster do id selecionado\n",
        "distancias_cluster = mercado[mercado['cluster'] == cluster_do_id]['dist_centroide']"
      ],
      "execution_count": null,
      "outputs": []
    },
    {
      "cell_type": "code",
      "metadata": {
        "id": "GBTv-y_a2Lu7",
        "colab_type": "code",
        "colab": {
          "base_uri": "https://localhost:8080/",
          "height": 119
        },
        "outputId": "15f5e7c4-81e4-4418-c8a9-4723167c6098"
      },
      "source": [
        "# índices dos ids com distâncias mais próximas maiores do que do id selecionado\n",
        "distancias_cluster[distancias_cluster > dist_centroide_id].sort_values().head()"
      ],
      "execution_count": null,
      "outputs": [
        {
          "output_type": "execute_result",
          "data": {
            "text/plain": [
              "308691    1.718133\n",
              "375396    1.718134\n",
              "54448     1.718142\n",
              "356025    1.718156\n",
              "28458     1.718158\n",
              "Name: dist_centroide, dtype: float64"
            ]
          },
          "metadata": {
            "tags": []
          },
          "execution_count": 11
        }
      ]
    },
    {
      "cell_type": "code",
      "metadata": {
        "id": "tdGK4UX41sjH",
        "colab_type": "code",
        "colab": {
          "base_uri": "https://localhost:8080/",
          "height": 119
        },
        "outputId": "d72503e4-23ea-4adc-f86a-6b04cac88494"
      },
      "source": [
        "# índices dos ids com distâncias mais próximas menores do que do id selecionado\n",
        "distancias_cluster[distancias_cluster < dist_centroide_id].sort_values(ascending=False).head()"
      ],
      "execution_count": null,
      "outputs": [
        {
          "output_type": "execute_result",
          "data": {
            "text/plain": [
              "346128    1.718119\n",
              "358899    1.718115\n",
              "53436     1.718115\n",
              "30753     1.718107\n",
              "21403     1.718107\n",
              "Name: dist_centroide, dtype: float64"
            ]
          },
          "metadata": {
            "tags": []
          },
          "execution_count": 12
        }
      ]
    },
    {
      "cell_type": "code",
      "metadata": {
        "id": "ZwH3D9Ds1JeV",
        "colab_type": "code",
        "colab": {
          "base_uri": "https://localhost:8080/",
          "height": 241
        },
        "outputId": "4f8b23a6-7b4c-4073-9c5f-410cf7db623f"
      },
      "source": [
        "# selecionando íncides dos 5 mais próximos com distâncias menores:\n",
        "indices_selecionados_menores = distancias_cluster[distancias_cluster < dist_centroide_id].sort_values(ascending=False).head().index\n",
        "\n",
        "# selecionando íncides dos 5 mais próximos com distâncias maiores:\n",
        "indices_selecionados_maiores = distancias_cluster[distancias_cluster > dist_centroide_id].sort_values().head().index\n",
        "\n",
        "mercado.iloc[indices_selecionados_menores]"
      ],
      "execution_count": null,
      "outputs": [
        {
          "output_type": "execute_result",
          "data": {
            "text/html": [
              "<div>\n",
              "<style scoped>\n",
              "    .dataframe tbody tr th:only-of-type {\n",
              "        vertical-align: middle;\n",
              "    }\n",
              "\n",
              "    .dataframe tbody tr th {\n",
              "        vertical-align: top;\n",
              "    }\n",
              "\n",
              "    .dataframe thead th {\n",
              "        text-align: right;\n",
              "    }\n",
              "</style>\n",
              "<table border=\"1\" class=\"dataframe\">\n",
              "  <thead>\n",
              "    <tr style=\"text-align: right;\">\n",
              "      <th></th>\n",
              "      <th>sg_uf</th>\n",
              "      <th>id</th>\n",
              "      <th>idade_empresa_anos</th>\n",
              "      <th>fl_email</th>\n",
              "      <th>fl_telefone</th>\n",
              "      <th>fl_rm</th>\n",
              "      <th>fl_veiculo</th>\n",
              "      <th>vl_total_veiculos_pesados_grupo</th>\n",
              "      <th>vl_total_veiculos_leves_grupo</th>\n",
              "      <th>nu_meses_rescencia</th>\n",
              "      <th>qt_coligados</th>\n",
              "      <th>qt_ufs_coligados</th>\n",
              "      <th>qt_ramos_coligados</th>\n",
              "      <th>media_vl_folha_coligados</th>\n",
              "      <th>media_vl_folha_coligados_gp</th>\n",
              "      <th>media_faturamento_est_coligados</th>\n",
              "      <th>qt_coligadas</th>\n",
              "      <th>sum_faturamento_estimado_coligadas</th>\n",
              "      <th>vl_faturamento_estimado_grupo_aux</th>\n",
              "      <th>qt_filiais</th>\n",
              "      <th>qt_total_socios_pj</th>\n",
              "      <th>de_saude_tributaria_VERDE</th>\n",
              "      <th>de_saude_tributaria_CINZA</th>\n",
              "      <th>de_saude_tributaria_AMARELO</th>\n",
              "      <th>de_saude_tributaria_LARANJA</th>\n",
              "      <th>de_saude_tributaria_AZUL</th>\n",
              "      <th>de_saude_tributaria_VERMELHO</th>\n",
              "      <th>de_nivel_atividade_ALTA</th>\n",
              "      <th>de_nivel_atividade_BAIXA</th>\n",
              "      <th>de_nivel_atividade_MEDIA</th>\n",
              "      <th>de_saude_rescencia_ACIMA DE 1 ANO</th>\n",
              "      <th>de_saude_rescencia_ATE 1 ANO</th>\n",
              "      <th>de_saude_rescencia_SEM INFORMACAO</th>\n",
              "      <th>de_saude_rescencia_ATE 6 MESES</th>\n",
              "      <th>Area_Territorial</th>\n",
              "      <th>População_estimada</th>\n",
              "      <th>Densidade_demográfica</th>\n",
              "      <th>Matrículas_ensino_fundamental</th>\n",
              "      <th>IDH_2010</th>\n",
              "      <th>Receitas_realizadas_2017</th>\n",
              "      <th>Despesas_empenhadas_2017</th>\n",
              "      <th>Rendimento_mensal_domiciliar_per_capita_2019</th>\n",
              "      <th>Total_veIculos_2018</th>\n",
              "      <th>cluster</th>\n",
              "      <th>dist_centroide</th>\n",
              "    </tr>\n",
              "  </thead>\n",
              "  <tbody>\n",
              "    <tr>\n",
              "      <th>346128</th>\n",
              "      <td>RN</td>\n",
              "      <td>1ee349240ac091ca8d9cc3ed314d1749396a4b616090e1...</td>\n",
              "      <td>0.167679</td>\n",
              "      <td>False</td>\n",
              "      <td>False</td>\n",
              "      <td>True</td>\n",
              "      <td>False</td>\n",
              "      <td>0.0</td>\n",
              "      <td>0.000000</td>\n",
              "      <td>0.727273</td>\n",
              "      <td>0.001183</td>\n",
              "      <td>0.00</td>\n",
              "      <td>0.000000</td>\n",
              "      <td>0.000000</td>\n",
              "      <td>0.000000</td>\n",
              "      <td>0.000000</td>\n",
              "      <td>0.000000</td>\n",
              "      <td>0.000000</td>\n",
              "      <td>7.584469e-07</td>\n",
              "      <td>0.0</td>\n",
              "      <td>0.0</td>\n",
              "      <td>0.0</td>\n",
              "      <td>0.0</td>\n",
              "      <td>1.0</td>\n",
              "      <td>0.0</td>\n",
              "      <td>0.0</td>\n",
              "      <td>0.0</td>\n",
              "      <td>1.0</td>\n",
              "      <td>0.0</td>\n",
              "      <td>0.0</td>\n",
              "      <td>1.0</td>\n",
              "      <td>0.0</td>\n",
              "      <td>0.0</td>\n",
              "      <td>0.0</td>\n",
              "      <td>0.0</td>\n",
              "      <td>0.423836</td>\n",
              "      <td>1.0</td>\n",
              "      <td>0.303517</td>\n",
              "      <td>0.882353</td>\n",
              "      <td>0.580830</td>\n",
              "      <td>0.454531</td>\n",
              "      <td>0.842</td>\n",
              "      <td>0.714008</td>\n",
              "      <td>3</td>\n",
              "      <td>1.718119</td>\n",
              "    </tr>\n",
              "    <tr>\n",
              "      <th>358899</th>\n",
              "      <td>RN</td>\n",
              "      <td>295014abb3bdbb464dba21e3908d7e1910e5cadd8e1b41...</td>\n",
              "      <td>0.112044</td>\n",
              "      <td>True</td>\n",
              "      <td>False</td>\n",
              "      <td>True</td>\n",
              "      <td>False</td>\n",
              "      <td>0.0</td>\n",
              "      <td>0.000000</td>\n",
              "      <td>0.348485</td>\n",
              "      <td>0.001183</td>\n",
              "      <td>0.00</td>\n",
              "      <td>0.000000</td>\n",
              "      <td>0.000000</td>\n",
              "      <td>0.000000</td>\n",
              "      <td>0.000000</td>\n",
              "      <td>0.000000</td>\n",
              "      <td>0.000000</td>\n",
              "      <td>1.665820e-06</td>\n",
              "      <td>0.0</td>\n",
              "      <td>0.0</td>\n",
              "      <td>0.0</td>\n",
              "      <td>0.0</td>\n",
              "      <td>0.0</td>\n",
              "      <td>0.0</td>\n",
              "      <td>0.0</td>\n",
              "      <td>1.0</td>\n",
              "      <td>1.0</td>\n",
              "      <td>0.0</td>\n",
              "      <td>0.0</td>\n",
              "      <td>1.0</td>\n",
              "      <td>0.0</td>\n",
              "      <td>0.0</td>\n",
              "      <td>0.0</td>\n",
              "      <td>0.0</td>\n",
              "      <td>0.423836</td>\n",
              "      <td>1.0</td>\n",
              "      <td>0.303517</td>\n",
              "      <td>0.882353</td>\n",
              "      <td>0.580830</td>\n",
              "      <td>0.454531</td>\n",
              "      <td>0.842</td>\n",
              "      <td>0.714008</td>\n",
              "      <td>3</td>\n",
              "      <td>1.718115</td>\n",
              "    </tr>\n",
              "    <tr>\n",
              "      <th>53436</th>\n",
              "      <td>AM</td>\n",
              "      <td>49f01b76d5e6285c23a872eb1436225dd3edca8aa85753...</td>\n",
              "      <td>0.054323</td>\n",
              "      <td>False</td>\n",
              "      <td>False</td>\n",
              "      <td>True</td>\n",
              "      <td>True</td>\n",
              "      <td>0.0</td>\n",
              "      <td>0.000008</td>\n",
              "      <td>0.393939</td>\n",
              "      <td>0.011834</td>\n",
              "      <td>0.08</td>\n",
              "      <td>0.069767</td>\n",
              "      <td>0.010496</td>\n",
              "      <td>0.000855</td>\n",
              "      <td>0.000340</td>\n",
              "      <td>0.011827</td>\n",
              "      <td>0.003048</td>\n",
              "      <td>7.584469e-07</td>\n",
              "      <td>0.0</td>\n",
              "      <td>0.0</td>\n",
              "      <td>1.0</td>\n",
              "      <td>0.0</td>\n",
              "      <td>0.0</td>\n",
              "      <td>0.0</td>\n",
              "      <td>0.0</td>\n",
              "      <td>0.0</td>\n",
              "      <td>1.0</td>\n",
              "      <td>0.0</td>\n",
              "      <td>0.0</td>\n",
              "      <td>1.0</td>\n",
              "      <td>0.0</td>\n",
              "      <td>0.0</td>\n",
              "      <td>0.0</td>\n",
              "      <td>1.0</td>\n",
              "      <td>0.526810</td>\n",
              "      <td>0.0</td>\n",
              "      <td>0.535944</td>\n",
              "      <td>0.686275</td>\n",
              "      <td>0.901031</td>\n",
              "      <td>0.800544</td>\n",
              "      <td>0.412</td>\n",
              "      <td>0.426579</td>\n",
              "      <td>3</td>\n",
              "      <td>1.718115</td>\n",
              "    </tr>\n",
              "    <tr>\n",
              "      <th>30753</th>\n",
              "      <td>AM</td>\n",
              "      <td>4a7ae63df3bc4a5486ec61adb2870e5b194925fc21e519...</td>\n",
              "      <td>0.045132</td>\n",
              "      <td>True</td>\n",
              "      <td>False</td>\n",
              "      <td>True</td>\n",
              "      <td>True</td>\n",
              "      <td>0.0</td>\n",
              "      <td>0.000008</td>\n",
              "      <td>0.333333</td>\n",
              "      <td>0.016568</td>\n",
              "      <td>0.12</td>\n",
              "      <td>0.081395</td>\n",
              "      <td>0.001506</td>\n",
              "      <td>0.000080</td>\n",
              "      <td>0.000079</td>\n",
              "      <td>0.017083</td>\n",
              "      <td>0.001019</td>\n",
              "      <td>1.535644e-05</td>\n",
              "      <td>0.0</td>\n",
              "      <td>0.0</td>\n",
              "      <td>1.0</td>\n",
              "      <td>0.0</td>\n",
              "      <td>0.0</td>\n",
              "      <td>0.0</td>\n",
              "      <td>0.0</td>\n",
              "      <td>0.0</td>\n",
              "      <td>1.0</td>\n",
              "      <td>0.0</td>\n",
              "      <td>0.0</td>\n",
              "      <td>1.0</td>\n",
              "      <td>0.0</td>\n",
              "      <td>0.0</td>\n",
              "      <td>0.0</td>\n",
              "      <td>1.0</td>\n",
              "      <td>0.526810</td>\n",
              "      <td>0.0</td>\n",
              "      <td>0.535944</td>\n",
              "      <td>0.686275</td>\n",
              "      <td>0.901031</td>\n",
              "      <td>0.800544</td>\n",
              "      <td>0.412</td>\n",
              "      <td>0.426579</td>\n",
              "      <td>3</td>\n",
              "      <td>1.718107</td>\n",
              "    </tr>\n",
              "    <tr>\n",
              "      <th>21403</th>\n",
              "      <td>AM</td>\n",
              "      <td>aee2f13dafc66718cd13245006106f3dda8fe0b9cd5ca7...</td>\n",
              "      <td>0.206606</td>\n",
              "      <td>False</td>\n",
              "      <td>False</td>\n",
              "      <td>True</td>\n",
              "      <td>True</td>\n",
              "      <td>0.0</td>\n",
              "      <td>0.000016</td>\n",
              "      <td>0.363636</td>\n",
              "      <td>0.001183</td>\n",
              "      <td>0.00</td>\n",
              "      <td>0.000000</td>\n",
              "      <td>0.000000</td>\n",
              "      <td>0.000000</td>\n",
              "      <td>0.000000</td>\n",
              "      <td>0.000000</td>\n",
              "      <td>0.000000</td>\n",
              "      <td>7.584469e-07</td>\n",
              "      <td>0.0</td>\n",
              "      <td>0.0</td>\n",
              "      <td>1.0</td>\n",
              "      <td>0.0</td>\n",
              "      <td>0.0</td>\n",
              "      <td>0.0</td>\n",
              "      <td>0.0</td>\n",
              "      <td>0.0</td>\n",
              "      <td>1.0</td>\n",
              "      <td>0.0</td>\n",
              "      <td>0.0</td>\n",
              "      <td>1.0</td>\n",
              "      <td>0.0</td>\n",
              "      <td>0.0</td>\n",
              "      <td>0.0</td>\n",
              "      <td>1.0</td>\n",
              "      <td>0.526810</td>\n",
              "      <td>0.0</td>\n",
              "      <td>0.535944</td>\n",
              "      <td>0.686275</td>\n",
              "      <td>0.901031</td>\n",
              "      <td>0.800544</td>\n",
              "      <td>0.412</td>\n",
              "      <td>0.426579</td>\n",
              "      <td>3</td>\n",
              "      <td>1.718107</td>\n",
              "    </tr>\n",
              "  </tbody>\n",
              "</table>\n",
              "</div>"
            ],
            "text/plain": [
              "       sg_uf  ... dist_centroide\n",
              "346128    RN  ...       1.718119\n",
              "358899    RN  ...       1.718115\n",
              "53436     AM  ...       1.718115\n",
              "30753     AM  ...       1.718107\n",
              "21403     AM  ...       1.718107\n",
              "\n",
              "[5 rows x 45 columns]"
            ]
          },
          "metadata": {
            "tags": []
          },
          "execution_count": 13
        }
      ]
    },
    {
      "cell_type": "code",
      "metadata": {
        "id": "3oBh3bGH-x8c",
        "colab_type": "code",
        "colab": {
          "base_uri": "https://localhost:8080/",
          "height": 34
        },
        "outputId": "2ec0d343-0379-4960-b247-ce714a702f3a"
      },
      "source": [
        "type(indices_selecionados_maiores)"
      ],
      "execution_count": null,
      "outputs": [
        {
          "output_type": "execute_result",
          "data": {
            "text/plain": [
              "pandas.core.indexes.numeric.Int64Index"
            ]
          },
          "metadata": {
            "tags": []
          },
          "execution_count": 14
        }
      ]
    },
    {
      "cell_type": "markdown",
      "metadata": {
        "id": "Z6e7bQmRPFYf",
        "colab_type": "text"
      },
      "source": [
        "Reimportar os dados brutos e fazer os pré-tratamentos antes da identificação do melhor número de clusters (notebook parte 1). Depois, gerar novamente os gráficos. Assim, poderemos analisar se a modelagem foi efetiva"
      ]
    },
    {
      "cell_type": "code",
      "metadata": {
        "id": "x8GX1DMvPUrR",
        "colab_type": "code",
        "colab": {}
      },
      "source": [
        "ls_cols = ['id', 'sg_uf', 'idade_empresa_anos', 'fl_st_especial', 'fl_email', 'fl_telefone', 'fl_rm', 'fl_spa', 'fl_antt', \n",
        "           'vl_total_tancagem', 'vl_total_veiculos_antt', 'qt_art', 'vl_total_veiculos_pesados_grupo', 'vl_total_veiculos_leves_grupo', \n",
        "           'vl_total_tancagem_grupo', 'vl_total_veiculos_antt_grupo', 'sg_uf_matriz', 'de_saude_tributaria', 'de_nivel_atividade', \n",
        "           'de_indicador_telefone', 'fl_simples_irregular', 'vl_frota', 'empsetorcensitariofaixarendapopulacao', 'qt_socios_st_regular', \n",
        "           'qt_socios_st_suspensa', 'qt_socios_pep', 'qt_socios_pj_nulos', 'qt_socios_pj_baixados', 'qt_socios_pj_suspensos', 'qt_socios_pj_inaptos', \n",
        "           'vl_idade_media_socios_pj', 'qt_coligados', 'qt_socios_coligados', 'qt_coligados_matriz', 'qt_coligados_baixada', 'qt_coligados_inapta', \n",
        "           'qt_coligados_suspensa', 'qt_coligados_nula', 'idade_media_coligadas_baixadas', 'qt_ufs_coligados', 'qt_regioes_coligados', \n",
        "           'qt_ramos_coligados', 'qt_funcionarios_coligados', 'media_funcionarios_coligados_gp', 'media_vl_folha_coligados_gp', \n",
        "           'media_faturamento_est_coligados', 'media_faturamento_est_coligados_gp', 'qt_coligados_atividade_alto', 'qt_coligados_atividade_medio', \n",
        "           'qt_coligados_atividade_baixo', 'qt_coligados_atividade_mt_baixo', 'qt_coligados_atividade_inativo', 'sum_faturamento_estimado_coligadas', \n",
        "           'vl_faturamento_estimado_aux', 'vl_faturamento_estimado_grupo_aux', 'qt_funcionarios_grupo', 'total', 'qt_admitidos_12meses', \n",
        "           'qt_desligados_12meses', 'qt_desligados', 'qt_admitidos', 'media_meses_servicos_all', 'media_meses_servicos', 'qt_funcionarios', \n",
        "           'qt_funcionarios_12meses', 'tx_crescimento_12meses', 'tx_crescimento_24meses', 'tx_rotatividade', 'qt_filiais', 'qt_socios_pj_ativos',\n",
        "           'media_vl_folha_coligados', 'qt_coligadas', 'qt_socios_pf', 'qt_socios_pj', 'de_faixa_faturamento_estimado', 'vl_faturamento_estimado_aux',\n",
        "           'fl_optante_simples', 'fl_optante_simei', 'qt_coligados_ativo', 'nu_meses_rescencia', 'de_saude_rescencia', 'fl_veiculo']\n",
        "\n",
        "mercado    = pd.read_csv('/content/drive/My Drive/codenation/codeNation/Projeto/data/estaticos_market.csv', usecols=ls_cols)\n",
        "portfolio1 = pd.read_csv('/content/drive/My Drive/codenation/codeNation/Projeto/data/estaticos_portfolio1.csv', usecols=ls_cols)\n",
        "portfolio2 = pd.read_csv('/content/drive/My Drive/codenation/codeNation/Projeto/data/estaticos_portfolio2.csv')\n",
        "portfolio3 = pd.read_csv('/content/drive/My Drive/codenation/codeNation/Projeto/data/estaticos_portfolio3.csv')\n",
        "\n",
        "portfolio2.drop('Unnamed: 0', axis=1, inplace = True)\n",
        "portfolio3.drop('Unnamed: 0', axis=1, inplace = True)\n",
        "\n",
        "# complementar o portfolio2\n",
        "\n",
        "# 1. ajustar o índice dos dataframes para executar o merge\n",
        "mercado.set_index('id', inplace=True)\n",
        "portfolio2.set_index('id', inplace=True)\n",
        "\n",
        "# 2. executar o merge\n",
        "portfolio2 = portfolio2.join(mercado)\n",
        "\n",
        "# 3. reajustar o índice do conjunto de dados\n",
        "portfolio2.reset_index(inplace=True)\n",
        "mercado.reset_index(inplace=True)\n",
        "\n",
        "# complementar o portfolio3\n",
        "\n",
        "# 1. ajustar o índice dos dataframes para executar o merge\n",
        "mercado.set_index('id', inplace=True)\n",
        "portfolio3.set_index('id', inplace=True)\n",
        "\n",
        "# 2. executar o merge\n",
        "portfolio3 = portfolio3.join(mercado)\n",
        "\n",
        "# 3. reajustar o índice do conjunto de dados\n",
        "portfolio3.reset_index(inplace=True)\n",
        "mercado.reset_index(inplace=True)"
      ],
      "execution_count": null,
      "outputs": []
    },
    {
      "cell_type": "code",
      "metadata": {
        "id": "2GaMMJmwP_uB",
        "colab_type": "code",
        "colab": {}
      },
      "source": [
        "# função para identificar dados ausentes\n",
        "# fonte: https://www.kaggle.com/cgump3rt/investigate-missing-values\n",
        "\n",
        "def missing_values_table(df, show=False):\n",
        "    mis_val = df.isnull().sum()\n",
        "    \n",
        "    mis_val_percent = 100 * df.isnull().sum() / len(df)\n",
        "    \n",
        "    mis_val_table = pd.concat([mis_val, mis_val_percent], axis=1)\n",
        "    \n",
        "    mis_val_table_ren_columns = mis_val_table.rename(\n",
        "    columns = {0 : 'Missing Values', 1 : '% of Total Values'})\n",
        "    \n",
        "    mis_val_table_ren_columns = mis_val_table_ren_columns[\n",
        "        mis_val_table_ren_columns.iloc[:,1] != 0].sort_values(\n",
        "    '% of Total Values', ascending=False).round(1)\n",
        "    \n",
        "    print (\"Your dataframe has \" + str(df.shape[1]) + \" columns. \"\n",
        "        \"There are \" + str(mis_val_table_ren_columns.shape[0]) +\n",
        "          \" columns with missing values.\\n\")\n",
        "    \n",
        "    if show == True:\n",
        "        null_counts = df.isnull().sum()/len(df)\n",
        "        plt.figure(figsize=(28, 7))\n",
        "        plt.xticks(np.arange(len(null_counts))+0.5,null_counts.index,rotation='vertical')\n",
        "        plt.ylabel('fraction of rows with missing data')\n",
        "        plt.axhline(y=0.1, color='r', linestyle='-')\n",
        "        plt.axhline(y=0.05, color='g', linestyle='-')\n",
        "        plt.bar(np.arange(len(null_counts)),null_counts)\n",
        "    \n",
        "    return mis_val_table_ren_columns"
      ],
      "execution_count": null,
      "outputs": []
    },
    {
      "cell_type": "code",
      "metadata": {
        "id": "QQi2MvM9QBfh",
        "colab_type": "code",
        "colab": {}
      },
      "source": [
        "# corrigir o valor SEM INFORMACAO na coluna de_faixa_faturamento_estimado\n",
        "def col_de_faixa_faturamento_estimado(df):\n",
        "    if df['de_faixa_faturamento_estimado'] == 'SEM INFORMACAO':\n",
        "        if df['vl_faturamento_estimado_aux'] <= 81000:\n",
        "            return 'ATE R$ 81.000,00'\n",
        "        elif df['vl_faturamento_estimado_aux'] <= 36000:\n",
        "            return 'DE R$ 81.000,01 A R$ 360.000,00'\n",
        "        elif df['vl_faturamento_estimado_aux'] <= 1500000:\n",
        "            return 'DE R$ 360.000,01 A R$ 1.500.000,00'\n",
        "        elif df['vl_faturamento_estimado_aux'] <= 4800000:\n",
        "            return 'DE R$ 1.500.000,01 A R$ 4.800.000,00'\n",
        "        elif df['vl_faturamento_estimado_aux'] <= 30000000:\n",
        "            return 'DE R$ 10.000.000,01 A R$ 30.000.000,00'\n",
        "        elif df['vl_faturamento_estimado_aux'] <= 100000000:\n",
        "            return 'DE R$ 30.000.000,01 A R$ 100.000.000,00'\n",
        "        elif df['vl_faturamento_estimado_aux'] <= 300000000:\n",
        "            return 'DE R$ 100.000.000,01 A R$ 300.000.000,00'\n",
        "        elif df['vl_faturamento_estimado_aux'] <= 500000000:\n",
        "            return 'DE R$ 300.000.000,01 A R$ 500.000.000,00'\n",
        "        elif df['vl_faturamento_estimado_aux'] <= 1000000000:\n",
        "            return 'DE R$ 500.000.000,01 A 1 BILHAO DE REAIS'\n",
        "        elif df['vl_faturamento_estimado_aux'] > 1000000000:\n",
        "            return 'ACIMA DE 1 BILHAO DE REAIS'\n",
        "    else:\n",
        "        x = df['de_faixa_faturamento_estimado']\n",
        "        return x\n",
        "\n",
        "# aplicando a função\n",
        "mercado['de_faixa_faturamento_estimado']    = mercado.apply(col_de_faixa_faturamento_estimado, axis=1)\n",
        "\n",
        "if portfolio1['de_faixa_faturamento_estimado'].isna().sum() > 0:\n",
        "    portfolio1['de_faixa_faturamento_estimado'] = portfolio1.apply(col_de_faixa_faturamento_estimado, axis=1)\n",
        "\n",
        "if portfolio2['de_faixa_faturamento_estimado'].isna().sum() > 0:\n",
        "    portfolio2['de_faixa_faturamento_estimado'] = portfolio2.apply(col_de_faixa_faturamento_estimado, axis=1)\n",
        "\n",
        "if portfolio3['de_faixa_faturamento_estimado'].isna().sum() > 0:\n",
        "    portfolio3['de_faixa_faturamento_estimado'] = portfolio3.apply(col_de_faixa_faturamento_estimado, axis=1)"
      ],
      "execution_count": null,
      "outputs": []
    },
    {
      "cell_type": "code",
      "metadata": {
        "id": "Ke8Xa2V2QJ6g",
        "colab_type": "code",
        "colab": {}
      },
      "source": [
        "# reduzir ou eliminiar os valores ausentes e incorretos na coluna fl_optante_simei \n",
        "# Obs.: para ser tributado pelo SIMEI, o faturamento é de até 81.000,00\n",
        "def col_fl_optante_simei(df):\n",
        "    if np.isnan(df['fl_optante_simei']):\n",
        "        if df['de_faixa_faturamento_estimado'] == 'ATE R$ 81.000,00':\n",
        "            return True\n",
        "        elif df['vl_faturamento_estimado_aux'] <= 81000:\n",
        "            return True\n",
        "        else:\n",
        "            return False\n",
        "    else:\n",
        "        if df['fl_optante_simei'] == True:\n",
        "            return True\n",
        "        else:\n",
        "            return False\n",
        "\n",
        "# aplicando a função\n",
        "mercado['fl_optante_simei'] = mercado.apply(col_fl_optante_simei, axis=1)\n",
        "\n",
        "if portfolio1['fl_optante_simei'].isna().sum() > 0:\n",
        "    portfolio1['fl_optante_simei'] = portfolio1.apply(col_fl_optante_simei, axis=1)\n",
        "\n",
        "if portfolio2['fl_optante_simei'].isna().sum() > 0:\n",
        "    portfolio2['fl_optante_simei'] = portfolio2.apply(col_fl_optante_simei, axis=1)\n",
        "\n",
        "if portfolio3['fl_optante_simei'].isna().sum() > 0:\n",
        "    portfolio3['fl_optante_simei'] = portfolio3.apply(col_fl_optante_simei, axis=1)"
      ],
      "execution_count": null,
      "outputs": []
    },
    {
      "cell_type": "code",
      "metadata": {
        "id": "YYGZ-huHQNng",
        "colab_type": "code",
        "colab": {}
      },
      "source": [
        "# reduzir ou eliminiar os valores ausentes na coluna qt_socios_st_regular\n",
        "def col_qt_socios_st_regular(df):\n",
        "    if np.isnan(df['qt_socios_st_regular']):\n",
        "        x = df['qt_socios_pf'] + df['qt_socios_pj']\n",
        "    else:\n",
        "        x = df['qt_socios_st_regular']\n",
        "\n",
        "    return x\n",
        "\n",
        "# aplicando a função\n",
        "mercado['qt_socios_st_regular'] = mercado.apply(col_qt_socios_st_regular, axis=1)\n",
        "\n",
        "if portfolio1['qt_socios_st_regular'].isna().sum() > 0:\n",
        "    portfolio1['qt_socios_st_regular'] = portfolio1.apply(col_qt_socios_st_regular, axis=1)\n",
        "\n",
        "if portfolio2['qt_socios_st_regular'].isna().sum() > 0:\n",
        "    portfolio2['qt_socios_st_regular'] = portfolio2.apply(col_qt_socios_st_regular, axis=1)\n",
        "\n",
        "if portfolio3['qt_socios_st_regular'].isna().sum() > 0:\n",
        "    portfolio3['qt_socios_st_regular'] = portfolio3.apply(col_qt_socios_st_regular, axis=1)"
      ],
      "execution_count": null,
      "outputs": []
    },
    {
      "cell_type": "code",
      "metadata": {
        "id": "ZzIF7YA7QQ0W",
        "colab_type": "code",
        "colab": {}
      },
      "source": [
        "df_missing = missing_values_table(mercado)\n",
        "\n",
        "ls_cols_name = list(df_missing.index)\n",
        "ls_cols_coligadas = []\n",
        "\n",
        "for col in mercado.columns:\n",
        "    if 'coligad' in col and col in ls_cols_name:\n",
        "        ls_cols_coligadas.append(col)\n",
        "\n",
        "mercado.drop('idade_media_coligadas_baixadas', axis=1, inplace=True)\n",
        "portfolio1.drop('idade_media_coligadas_baixadas', axis=1, inplace=True)\n",
        "portfolio2.drop('idade_media_coligadas_baixadas', axis=1, inplace=True)\n",
        "portfolio3.drop('idade_media_coligadas_baixadas', axis=1, inplace=True)"
      ],
      "execution_count": null,
      "outputs": []
    },
    {
      "cell_type": "code",
      "metadata": {
        "id": "O0F-RMorQYpX",
        "colab_type": "code",
        "colab": {}
      },
      "source": [
        "# substituir os valores nulos por zero na coluna qt_coligados, com a seguinte regra:\n",
        "# considerando que o Simples Nacional tem como público empresas de até 4,8 milhões/ano\n",
        "# e que o SIMEI tem como público empresa de até 81.000/ano, essas empresas enquadradas\n",
        "# neste perfil terão os valores nulos substituídos por zero\n",
        "def col_qt_coligadas(df):\n",
        "    if pd.isnull(df['qt_coligados']):\n",
        "        if df['de_faixa_faturamento_estimado'] == 'ATE R$ 81.000,00' or \\\n",
        "        df['de_faixa_faturamento_estimado'] == 'DE R$ 81.000,01 A R$ 360.000,00' or \\\n",
        "        df['de_faixa_faturamento_estimado'] == 'DE R$ 360.000,01 A R$ 1.500.000,00' or \\\n",
        "        df['de_faixa_faturamento_estimado'] == 'DE R$ 1.500.000,01 A R$ 4.800.000,00':\n",
        "            return 0\n",
        "        elif df['vl_faturamento_estimado_aux'] <= 4800000:\n",
        "            return 0\n",
        "        elif df['fl_optante_simples'] == True:\n",
        "            return 0\n",
        "        elif df['fl_optante_simei'] == True:\n",
        "            return 0\n",
        "        else:\n",
        "            return np.nan\n",
        "    else:\n",
        "        x = df['qt_coligados']\n",
        "        return x\n",
        "\n",
        "# aplicando a função\n",
        "mercado['qt_coligados'] = mercado.apply(col_qt_coligadas, axis=1)\n",
        "\n",
        "if portfolio1['qt_coligados'].isna().sum() > 0:\n",
        "    portfolio1['qt_coligados'] = portfolio1.apply(col_qt_coligadas, axis=1)\n",
        "\n",
        "if portfolio2['qt_coligados'].isna().sum() > 0:\n",
        "    portfolio2['qt_coligados'] = portfolio2.apply(col_qt_coligadas, axis=1)\n",
        "\n",
        "if portfolio3['qt_coligados'].isna().sum() > 0:\n",
        "    portfolio3['qt_coligados'] = portfolio3.apply(col_qt_coligadas, axis=1)"
      ],
      "execution_count": null,
      "outputs": []
    },
    {
      "cell_type": "code",
      "metadata": {
        "id": "pVoXOhdeQaqO",
        "colab_type": "code",
        "colab": {}
      },
      "source": [
        "# substituir os valores ausentes por valor fixo\n",
        "mercado['qt_coligados'].fillna(-1, inplace=True)\n",
        "portfolio1['qt_coligados'].fillna(-1, inplace=True)\n",
        "portfolio2['qt_coligados'].fillna(-1, inplace=True)\n",
        "portfolio3['qt_coligados'].fillna(-1, inplace=True)\n",
        "\n",
        "# atualizar a lista de variáveis referente a coligas\n",
        "df_missing = missing_values_table(mercado)\n",
        "\n",
        "ls_cols_name = list(df_missing.index)\n",
        "ls_cols_coligadas = []\n",
        "\n",
        "for col in mercado.columns:\n",
        "    if 'coligad' in col and col in ls_cols_name:\n",
        "        ls_cols_coligadas.append(col)\n",
        "\n",
        "# como todas as variáveis possuem o mesmo dtype, declarar uma única função\n",
        "# para tratar dados ausentes é suficiente\n",
        "for col_coligada in ls_cols_coligadas:\n",
        "    def col_qt_coligadas(df):\n",
        "        if pd.isnull(df[col_coligada]):\n",
        "            if df['qt_coligados'] == 0:\n",
        "                return 0\n",
        "        else:\n",
        "            x = df[col_coligada]\n",
        "            return x\n",
        "\n",
        "    # aplicando a função\n",
        "    mercado[col_coligada]    = mercado.apply(col_qt_coligadas, axis=1)\n",
        "\n",
        "    if portfolio1[col_coligada].isna().sum() > 0:\n",
        "        portfolio1[col_coligada] = portfolio1.apply(col_qt_coligadas, axis=1)\n",
        "    \n",
        "    if portfolio2[col_coligada].isna().sum() > 0:\n",
        "        portfolio2[col_coligada] = portfolio2.apply(col_qt_coligadas, axis=1)\n",
        "    \n",
        "    if portfolio3[col_coligada].isna().sum() > 0:\n",
        "        portfolio3[col_coligada] = portfolio3.apply(col_qt_coligadas, axis=1)"
      ],
      "execution_count": null,
      "outputs": []
    },
    {
      "cell_type": "code",
      "metadata": {
        "id": "79aB99FrQnCW",
        "colab_type": "code",
        "colab": {}
      },
      "source": [
        "# conjunto de dados mercado\n",
        "mercado['qt_coligados_ativo'].fillna(0, inplace=True)\n",
        "mercado['qt_coligados_baixada'].fillna(0, inplace=True)\n",
        "mercado['qt_coligados_inapta'].fillna(0, inplace=True)\n",
        "mercado['qt_coligados_suspensa'].fillna(0, inplace=True)\n",
        "mercado['qt_coligados_nula'].fillna(0, inplace=True)\n",
        "mercado['media_vl_folha_coligados'].fillna(0, inplace=True)\n",
        "mercado['media_vl_folha_coligados_gp'].fillna(0, inplace=True)\n",
        "mercado['media_faturamento_est_coligados'].fillna(0, inplace=True)\n",
        "mercado['media_faturamento_est_coligados_gp'].fillna(0, inplace=True)\n",
        "mercado['qt_coligados_atividade_baixo'].fillna(0, inplace=True)\n",
        "mercado['qt_coligados_atividade_mt_baixo'].fillna(0, inplace=True)\n",
        "mercado['qt_coligados_atividade_inativo'].fillna(0, inplace=True)\n",
        "mercado['qt_coligadas'].fillna(0, inplace=True)\n",
        "mercado['sum_faturamento_estimado_coligadas'].fillna(0, inplace=True)\n",
        "\n",
        "# conjunto de dados portfolio1\n",
        "portfolio1['qt_coligados_ativo'].fillna(0, inplace=True)\n",
        "portfolio1['qt_coligados_baixada'].fillna(0, inplace=True)\n",
        "portfolio1['qt_coligados_inapta'].fillna(0, inplace=True)\n",
        "portfolio1['qt_coligados_suspensa'].fillna(0, inplace=True)\n",
        "portfolio1['qt_coligados_nula'].fillna(0, inplace=True)\n",
        "portfolio1['media_vl_folha_coligados'].fillna(0, inplace=True)\n",
        "portfolio1['media_vl_folha_coligados_gp'].fillna(0, inplace=True)\n",
        "portfolio1['media_faturamento_est_coligados'].fillna(0, inplace=True)\n",
        "portfolio1['media_faturamento_est_coligados_gp'].fillna(0, inplace=True)\n",
        "portfolio1['qt_coligados_atividade_baixo'].fillna(0, inplace=True)\n",
        "portfolio1['qt_coligados_atividade_mt_baixo'].fillna(0, inplace=True)\n",
        "portfolio1['qt_coligados_atividade_inativo'].fillna(0, inplace=True)\n",
        "portfolio1['qt_coligadas'].fillna(0, inplace=True)\n",
        "portfolio1['sum_faturamento_estimado_coligadas'].fillna(0, inplace=True)\n",
        "\n",
        "# conjunto de dados portfolio2\n",
        "portfolio2['qt_coligados_ativo'].fillna(0, inplace=True)\n",
        "portfolio2['qt_coligados_baixada'].fillna(0, inplace=True)\n",
        "portfolio2['qt_coligados_inapta'].fillna(0, inplace=True)\n",
        "portfolio2['qt_coligados_suspensa'].fillna(0, inplace=True)\n",
        "portfolio2['qt_coligados_nula'].fillna(0, inplace=True)\n",
        "portfolio2['media_vl_folha_coligados'].fillna(0, inplace=True)\n",
        "portfolio2['media_vl_folha_coligados_gp'].fillna(0, inplace=True)\n",
        "portfolio2['media_faturamento_est_coligados'].fillna(0, inplace=True)\n",
        "portfolio2['media_faturamento_est_coligados_gp'].fillna(0, inplace=True)\n",
        "portfolio2['qt_coligados_atividade_baixo'].fillna(0, inplace=True)\n",
        "portfolio2['qt_coligados_atividade_mt_baixo'].fillna(0, inplace=True)\n",
        "portfolio2['qt_coligados_atividade_inativo'].fillna(0, inplace=True)\n",
        "portfolio2['qt_coligadas'].fillna(0, inplace=True)\n",
        "portfolio2['sum_faturamento_estimado_coligadas'].fillna(0, inplace=True)\n",
        "\n",
        "# conjunto de dados portfolio3\n",
        "portfolio3['qt_coligados_ativo'].fillna(0, inplace=True)\n",
        "portfolio3['qt_coligados_baixada'].fillna(0, inplace=True)\n",
        "portfolio3['qt_coligados_inapta'].fillna(0, inplace=True)\n",
        "portfolio3['qt_coligados_suspensa'].fillna(0, inplace=True)\n",
        "portfolio3['qt_coligados_nula'].fillna(0, inplace=True)\n",
        "portfolio3['media_vl_folha_coligados'].fillna(0, inplace=True)\n",
        "portfolio3['media_vl_folha_coligados_gp'].fillna(0, inplace=True)\n",
        "portfolio3['media_faturamento_est_coligados'].fillna(0, inplace=True)\n",
        "portfolio3['media_faturamento_est_coligados_gp'].fillna(0, inplace=True)\n",
        "portfolio3['qt_coligados_atividade_baixo'].fillna(0, inplace=True)\n",
        "portfolio3['qt_coligados_atividade_mt_baixo'].fillna(0, inplace=True)\n",
        "portfolio3['qt_coligados_atividade_inativo'].fillna(0, inplace=True)\n",
        "portfolio3['qt_coligadas'].fillna(0, inplace=True)\n",
        "portfolio3['sum_faturamento_estimado_coligadas'].fillna(0, inplace=True)"
      ],
      "execution_count": null,
      "outputs": []
    },
    {
      "cell_type": "code",
      "metadata": {
        "id": "wbgB4gHvQqt-",
        "colab_type": "code",
        "colab": {}
      },
      "source": [
        "# excluir colunas referente a coligadas cuja proporção de valores ausentes ultrapasse 10%\n",
        "ls_cols_coligadas = []\n",
        "\n",
        "for col in mercado.columns:\n",
        "    if 'coligad' in col and col in ls_cols_name:\n",
        "        ls_cols_coligadas.append(col)\n",
        "\n",
        "df_missing = missing_values_table(mercado[ls_cols_coligadas])\n",
        "ls_cols_coligada_10 = df_missing[df_missing['% of Total Values'] > 10].index\n",
        "\n",
        "mercado.drop(ls_cols_coligada_10, axis=1, inplace=True)\n",
        "portfolio1.drop(ls_cols_coligada_10, axis=1, inplace=True)\n",
        "portfolio2.drop(ls_cols_coligada_10, axis=1, inplace=True)\n",
        "portfolio3.drop(ls_cols_coligada_10, axis=1, inplace=True)"
      ],
      "execution_count": null,
      "outputs": []
    },
    {
      "cell_type": "code",
      "metadata": {
        "id": "7hhwzZtRQtle",
        "colab_type": "code",
        "colab": {}
      },
      "source": [
        "mercado['qt_socios_pj_nulos'].fillna(0, inplace=True)\n",
        "mercado['qt_socios_pj_baixados'].fillna(0, inplace=True)\n",
        "mercado['qt_socios_pj_ativos'].fillna(0, inplace=True)\n",
        "mercado['qt_socios_pj_suspensos'].fillna(0, inplace=True)\n",
        "mercado['qt_socios_pj_inaptos'].fillna(0, inplace=True)\n",
        "\n",
        "portfolio1['qt_socios_pj_nulos'].fillna(0, inplace=True)\n",
        "portfolio1['qt_socios_pj_baixados'].fillna(0, inplace=True)\n",
        "portfolio1['qt_socios_pj_ativos'].fillna(0, inplace=True)\n",
        "portfolio1['qt_socios_pj_suspensos'].fillna(0, inplace=True)\n",
        "portfolio1['qt_socios_pj_inaptos'].fillna(0, inplace=True)\n",
        "\n",
        "portfolio2['qt_socios_pj_nulos'].fillna(0, inplace=True)\n",
        "portfolio2['qt_socios_pj_baixados'].fillna(0, inplace=True)\n",
        "portfolio2['qt_socios_pj_ativos'].fillna(0, inplace=True)\n",
        "portfolio2['qt_socios_pj_suspensos'].fillna(0, inplace=True)\n",
        "portfolio2['qt_socios_pj_inaptos'].fillna(0, inplace=True)\n",
        "\n",
        "portfolio3['qt_socios_pj_nulos'].fillna(0, inplace=True)\n",
        "portfolio3['qt_socios_pj_baixados'].fillna(0, inplace=True)\n",
        "portfolio3['qt_socios_pj_ativos'].fillna(0, inplace=True)\n",
        "portfolio3['qt_socios_pj_suspensos'].fillna(0, inplace=True)\n",
        "portfolio3['qt_socios_pj_inaptos'].fillna(0, inplace=True)"
      ],
      "execution_count": null,
      "outputs": []
    },
    {
      "cell_type": "code",
      "metadata": {
        "id": "GNDY7z1dQv6H",
        "colab_type": "code",
        "colab": {}
      },
      "source": [
        "# lista de colunas com mais de 90% de valores ausentes\n",
        "df_missing = missing_values_table(mercado)\n",
        "ls_cols_missin_90 = df_missing[df_missing['% of Total Values'] > 90].index\n",
        "\n",
        "# remocao dessas colunas dos datasets\n",
        "mercado.drop(ls_cols_missin_90, axis=1, inplace=True)\n",
        "portfolio1.drop(ls_cols_missin_90, axis=1, inplace=True)\n",
        "portfolio2.drop(ls_cols_missin_90, axis=1, inplace=True)\n",
        "portfolio3.drop(ls_cols_missin_90, axis=1, inplace=True)"
      ],
      "execution_count": null,
      "outputs": []
    },
    {
      "cell_type": "code",
      "metadata": {
        "id": "HAg4Zs_xQzhl",
        "colab_type": "code",
        "colab": {}
      },
      "source": [
        "# conjunto de dados mercado\n",
        "mercado['qt_total_socios_pj']      = mercado.qt_socios_pj_ativos + mercado.qt_socios_pj_nulos + mercado.qt_socios_pj_baixados + mercado.qt_socios_pj_suspensos + mercado.qt_socios_pj_inaptos\n",
        "mercado['prop_sociospj_inativos']  = (mercado.qt_socios_pj_nulos + mercado.qt_socios_pj_baixados + mercado.qt_socios_pj_suspensos + mercado.qt_socios_pj_inaptos) / mercado.qt_total_socios_pj\n",
        "mercado['prop_sociospj_ativos']    = mercado.qt_socios_pj_ativos / mercado.qt_total_socios_pj\n",
        "mercado['prop_coligados_inativos'] = (mercado.qt_coligados_baixada + mercado.qt_coligados_inapta + mercado.qt_coligados_suspensa + mercado.qt_coligados_nula) / mercado.qt_coligados\n",
        "mercado['prop_coligados_ativos']   = mercado.qt_coligados_ativo / mercado.qt_coligados\n",
        "mercado['media_fat_est_colig_gp_unid_folha_pgto'] = mercado.media_faturamento_est_coligados_gp / mercado.media_vl_folha_coligados_gp\n",
        "mercado['media_fat_est_colig_unid_folha_pgto']    = mercado.media_faturamento_est_coligados / mercado.media_vl_folha_coligados\n",
        "mercado['qt_coligados_atividade_ruim'] = mercado.qt_coligados_atividade_baixo + mercado.qt_coligados_atividade_mt_baixo + mercado.qt_coligados_atividade_inativo\n",
        "mercado['fatur_por_coligada']    = mercado.sum_faturamento_estimado_coligadas / mercado.qt_coligadas\n",
        "mercado['proporcao_desligados']  = mercado.qt_desligados / mercado.qt_funcionarios\n",
        "mercado['proporcao_contratados'] = mercado.qt_admitidos / mercado.qt_funcionarios\n",
        "\n",
        "# conjunto de dados portfolio1\n",
        "portfolio1['qt_total_socios_pj']      = portfolio1.qt_socios_pj_ativos + portfolio1.qt_socios_pj_nulos + portfolio1.qt_socios_pj_baixados + portfolio1.qt_socios_pj_suspensos + portfolio1.qt_socios_pj_inaptos\n",
        "portfolio1['prop_sociospj_inativos']  = (portfolio1.qt_socios_pj_nulos + portfolio1.qt_socios_pj_baixados + portfolio1.qt_socios_pj_suspensos + portfolio1.qt_socios_pj_inaptos) / portfolio1.qt_total_socios_pj\n",
        "portfolio1['prop_sociospj_ativos']    = portfolio1.qt_socios_pj_ativos / portfolio1.qt_total_socios_pj\n",
        "portfolio1['prop_coligados_inativos'] = (portfolio1.qt_coligados_baixada + portfolio1.qt_coligados_inapta + portfolio1.qt_coligados_suspensa + portfolio1.qt_coligados_nula) / portfolio1.qt_coligados\n",
        "portfolio1['prop_coligados_ativos']   = portfolio1.qt_coligados_ativo / portfolio1.qt_coligados\n",
        "portfolio1['media_fat_est_colig_gp_unid_folha_pgto'] = portfolio1.media_faturamento_est_coligados_gp / portfolio1.media_vl_folha_coligados_gp\n",
        "portfolio1['media_fat_est_colig_unid_folha_pgto']    = portfolio1.media_faturamento_est_coligados / portfolio1.media_vl_folha_coligados\n",
        "portfolio1['qt_coligados_atividade_ruim'] = portfolio1.qt_coligados_atividade_baixo + portfolio1.qt_coligados_atividade_mt_baixo + portfolio1.qt_coligados_atividade_inativo\n",
        "portfolio1['fatur_por_coligada']    = portfolio1.sum_faturamento_estimado_coligadas / portfolio1.qt_coligadas\n",
        "portfolio1['proporcao_desligados']  = portfolio1.qt_desligados / portfolio1.qt_funcionarios\n",
        "portfolio1['proporcao_contratados'] = portfolio1.qt_admitidos / portfolio1.qt_funcionarios\n",
        "\n",
        "# conjunto de dados portfolio2\n",
        "portfolio2['qt_total_socios_pj']      = portfolio2.qt_socios_pj_ativos + portfolio2.qt_socios_pj_nulos + portfolio2.qt_socios_pj_baixados + portfolio2.qt_socios_pj_suspensos + portfolio2.qt_socios_pj_inaptos\n",
        "portfolio2['prop_sociospj_inativos']  = (portfolio2.qt_socios_pj_nulos + portfolio2.qt_socios_pj_baixados + portfolio2.qt_socios_pj_suspensos + portfolio2.qt_socios_pj_inaptos) / portfolio2.qt_total_socios_pj\n",
        "portfolio2['prop_sociospj_ativos']    = portfolio2.qt_socios_pj_ativos / portfolio2.qt_total_socios_pj\n",
        "portfolio2['prop_coligados_inativos'] = (portfolio2.qt_coligados_baixada + portfolio2.qt_coligados_inapta + portfolio2.qt_coligados_suspensa + portfolio2.qt_coligados_nula) / portfolio2.qt_coligados\n",
        "portfolio2['prop_coligados_ativos']   = portfolio2.qt_coligados_ativo / portfolio2.qt_coligados\n",
        "portfolio2['media_fat_est_colig_gp_unid_folha_pgto'] = portfolio2.media_faturamento_est_coligados_gp / portfolio2.media_vl_folha_coligados_gp\n",
        "portfolio2['media_fat_est_colig_unid_folha_pgto']    = portfolio2.media_faturamento_est_coligados / portfolio2.media_vl_folha_coligados\n",
        "portfolio2['qt_coligados_atividade_ruim'] = portfolio2.qt_coligados_atividade_baixo + portfolio2.qt_coligados_atividade_mt_baixo + portfolio2.qt_coligados_atividade_inativo\n",
        "portfolio2['fatur_por_coligada']    = portfolio2.sum_faturamento_estimado_coligadas / portfolio2.qt_coligadas\n",
        "portfolio2['proporcao_desligados']  = portfolio2.qt_desligados / portfolio2.qt_funcionarios\n",
        "portfolio2['proporcao_contratados'] = portfolio2.qt_admitidos / portfolio2.qt_funcionarios\n",
        "\n",
        "# conjunto de dados portfolio3\n",
        "portfolio3['qt_total_socios_pj']      = portfolio3.qt_socios_pj_ativos + portfolio3.qt_socios_pj_nulos + portfolio3.qt_socios_pj_baixados + portfolio3.qt_socios_pj_suspensos + portfolio3.qt_socios_pj_inaptos\n",
        "portfolio3['prop_sociospj_inativos']  = (portfolio3.qt_socios_pj_nulos + portfolio3.qt_socios_pj_baixados + portfolio3.qt_socios_pj_suspensos + portfolio3.qt_socios_pj_inaptos) / portfolio3.qt_total_socios_pj\n",
        "portfolio3['prop_sociospj_ativos']    = portfolio3.qt_socios_pj_ativos / portfolio3.qt_total_socios_pj\n",
        "portfolio3['prop_coligados_inativos'] = (portfolio3.qt_coligados_baixada + portfolio3.qt_coligados_inapta + portfolio3.qt_coligados_suspensa + portfolio3.qt_coligados_nula) / portfolio3.qt_coligados\n",
        "portfolio3['prop_coligados_ativos']   = portfolio3.qt_coligados_ativo / portfolio3.qt_coligados\n",
        "portfolio3['media_fat_est_colig_gp_unid_folha_pgto'] = portfolio3.media_faturamento_est_coligados_gp / portfolio3.media_vl_folha_coligados_gp\n",
        "portfolio3['media_fat_est_colig_unid_folha_pgto']    = portfolio3.media_faturamento_est_coligados / portfolio3.media_vl_folha_coligados\n",
        "portfolio3['qt_coligados_atividade_ruim'] = portfolio3.qt_coligados_atividade_baixo + portfolio3.qt_coligados_atividade_mt_baixo + portfolio3.qt_coligados_atividade_inativo\n",
        "portfolio3['fatur_por_coligada']    = portfolio3.sum_faturamento_estimado_coligadas / portfolio3.qt_coligadas\n",
        "portfolio3['proporcao_desligados']  = portfolio3.qt_desligados / portfolio3.qt_funcionarios\n",
        "portfolio3['proporcao_contratados'] = portfolio3.qt_admitidos / portfolio3.qt_funcionarios"
      ],
      "execution_count": null,
      "outputs": []
    },
    {
      "cell_type": "code",
      "metadata": {
        "id": "r0oyIAFCQ1ru",
        "colab_type": "code",
        "colab": {}
      },
      "source": [
        "ls_cols_excluir = ['qt_socios_pj_ativos', 'qt_socios_pj_nulos', 'qt_socios_pj_baixados', 'qt_socios_pj_suspensos', 'qt_socios_pj_inaptos', \n",
        "                   'qt_coligados_baixada', 'qt_coligados_inapta', 'qt_coligados_suspensa', 'qt_coligados_nula', 'qt_coligados_atividade_baixo', \n",
        "                   'qt_coligados_atividade_mt_baixo', 'qt_desligados', 'qt_admitidos', 'qt_socios_pf', 'qt_socios_pj', 'de_faixa_faturamento_estimado', \n",
        "                   'vl_faturamento_estimado_aux', 'fl_optante_simples', 'fl_optante_simei', 'qt_coligados_ativo']\n",
        "\n",
        "mercado.drop(ls_cols_excluir, axis=1, inplace=True)\n",
        "portfolio1.drop(ls_cols_excluir, axis=1, inplace=True)\n",
        "portfolio2.drop(ls_cols_excluir, axis=1, inplace=True)\n",
        "portfolio3.drop(ls_cols_excluir, axis=1, inplace=True)"
      ],
      "execution_count": null,
      "outputs": []
    },
    {
      "cell_type": "code",
      "metadata": {
        "id": "gEBlnraDQ-9V",
        "colab_type": "code",
        "colab": {}
      },
      "source": [
        "# excluir colunas cuja proporção de valores ausentes ultrapasse 10%\n",
        "df_missing = missing_values_table(mercado)\n",
        "ls_cols_10 = df_missing[df_missing['% of Total Values'] > 10].index\n",
        "\n",
        "mercado.drop(ls_cols_10, axis=1, inplace=True)\n",
        "portfolio1.drop(ls_cols_10, axis=1, inplace=True)\n",
        "portfolio2.drop(ls_cols_10, axis=1, inplace=True)\n",
        "portfolio3.drop(ls_cols_10, axis=1, inplace=True)"
      ],
      "execution_count": null,
      "outputs": []
    },
    {
      "cell_type": "code",
      "metadata": {
        "id": "bkcBRE5QRDEO",
        "colab_type": "code",
        "colab": {}
      },
      "source": [
        "# gerar lista de colunas numéricas com valores ausentes para substituir estes valores pela sua mediana\n",
        "numerics = ['int16', 'int32', 'int64', 'float16', 'float32', 'float64']\n",
        "ls_var_numerica = list(mercado.select_dtypes(include=numerics).columns)\n",
        "\n",
        "from sklearn.impute import SimpleImputer\n",
        "imp_median = SimpleImputer(strategy='median')\n",
        "imp_median.fit(mercado[ls_var_numerica])\n",
        "\n",
        "mercado[ls_var_numerica]    = imp_median.transform(mercado[ls_var_numerica])\n",
        "portfolio1[ls_var_numerica] = imp_median.transform(portfolio1[ls_var_numerica])\n",
        "portfolio2[ls_var_numerica] = imp_median.transform(portfolio2[ls_var_numerica])\n",
        "portfolio3[ls_var_numerica] = imp_median.transform(portfolio3[ls_var_numerica])"
      ],
      "execution_count": null,
      "outputs": []
    },
    {
      "cell_type": "code",
      "metadata": {
        "id": "49qw4XpDRH-E",
        "colab_type": "code",
        "colab": {}
      },
      "source": [
        "# identificar os tipos de dados das colunas ainda com valores ausentes\n",
        "df_missing = missing_values_table(mercado)\n",
        "ls_cols_missing = df_missing.index\n",
        "\n",
        "# aplicar aos conjuntos de dados\n",
        "for col in ls_cols_missing:\n",
        "    mais_frequente = mercado[col].mode()\n",
        "    mercado[col].fillna(mais_frequente[0], inplace=True)\n",
        "\n",
        "    if portfolio1[col].isna().sum() > 0:\n",
        "        portfolio1[col].fillna(mais_frequente[0], inplace=True)\n",
        "\n",
        "    if portfolio2[col].isna().sum() > 0:\n",
        "        portfolio2[col].fillna(mais_frequente[0], inplace=True)\n",
        "\n",
        "    if portfolio3[col].isna().sum() > 0:\n",
        "        portfolio3[col].fillna(mais_frequente[0], inplace=True)"
      ],
      "execution_count": null,
      "outputs": []
    },
    {
      "cell_type": "code",
      "metadata": {
        "id": "j8YpG1yzRRps",
        "colab_type": "code",
        "colab": {}
      },
      "source": [
        "missing_values_table(mercado)"
      ],
      "execution_count": null,
      "outputs": []
    },
    {
      "cell_type": "code",
      "metadata": {
        "id": "HgO9fkfyRXn8",
        "colab_type": "code",
        "colab": {}
      },
      "source": [
        "missing_values_table(portfolio1)"
      ],
      "execution_count": null,
      "outputs": []
    },
    {
      "cell_type": "code",
      "metadata": {
        "id": "7b_Upr9ORZvs",
        "colab_type": "code",
        "colab": {}
      },
      "source": [
        "missing_values_table(portfolio2)"
      ],
      "execution_count": null,
      "outputs": []
    },
    {
      "cell_type": "code",
      "metadata": {
        "id": "bCd6nGyqRb8c",
        "colab_type": "code",
        "colab": {}
      },
      "source": [
        "missing_values_table(portfolio3)"
      ],
      "execution_count": null,
      "outputs": []
    },
    {
      "cell_type": "code",
      "metadata": {
        "id": "5Qvn_AALTLRF",
        "colab_type": "code",
        "colab": {}
      },
      "source": [
        "# Substituir o valor 'MUITO BAIXA' por 'BAIXA'\n",
        "\n",
        "mercado['de_nivel_atividade']    = mercado['de_nivel_atividade'].replace(to_replace = {'MUITO BAIXA': 'BAIXA'})\n",
        "portfolio1['de_nivel_atividade'] = portfolio1['de_nivel_atividade'].replace(to_replace = {'MUITO BAIXA': 'BAIXA'})\n",
        "portfolio2['de_nivel_atividade'] = portfolio2['de_nivel_atividade'].replace(to_replace = {'MUITO BAIXA': 'BAIXA'})\n",
        "portfolio3['de_nivel_atividade'] = portfolio3['de_nivel_atividade'].replace(to_replace = {'MUITO BAIXA': 'BAIXA'})"
      ],
      "execution_count": null,
      "outputs": []
    },
    {
      "cell_type": "markdown",
      "metadata": {
        "id": "gES_QlHgOYfE",
        "colab_type": "text"
      },
      "source": [
        "Anexar os clusters aos conjuntos de dados"
      ]
    },
    {
      "cell_type": "code",
      "metadata": {
        "id": "YTzy1JBoNhLB",
        "colab_type": "code",
        "colab": {}
      },
      "source": [
        "mercado['cluster']    = mercado_clusters\n",
        "portfolio1['cluster'] = portfolio1_clusters\n",
        "portfolio2['cluster'] = portfolio2_clusters\n",
        "portfolio3['cluster'] = portfolio3_clusters"
      ],
      "execution_count": null,
      "outputs": []
    },
    {
      "cell_type": "markdown",
      "metadata": {
        "id": "8gyAFxAra-vV",
        "colab_type": "text"
      },
      "source": [
        "Anexar as distâncias para os clusters aos conjuntos de dados"
      ]
    },
    {
      "cell_type": "code",
      "metadata": {
        "id": "acPyOjg8a-Xh",
        "colab_type": "code",
        "colab": {}
      },
      "source": [
        "mercado['dist_centro']    = mercado_dist\n",
        "portfolio1['dist_centro'] = portfolio1_dist\n",
        "portfolio2['dist_centro'] = portfolio2_dist\n",
        "portfolio3['dist_centro'] = portfolio3_dist"
      ],
      "execution_count": null,
      "outputs": []
    },
    {
      "cell_type": "markdown",
      "metadata": {
        "id": "3zJaAiS2Oqhj",
        "colab_type": "text"
      },
      "source": [
        "Fazer algumas visualizações no conjunto de dados Mercado para verificar o resultado do Kmeans"
      ]
    },
    {
      "cell_type": "code",
      "metadata": {
        "id": "kZQQTxH0Owrz",
        "colab_type": "code",
        "colab": {}
      },
      "source": [
        "import matplotlib.pyplot as plt\n",
        "import seaborn as sns"
      ],
      "execution_count": null,
      "outputs": []
    },
    {
      "cell_type": "code",
      "metadata": {
        "id": "T41k5lFPOxQ7",
        "colab_type": "code",
        "colab": {}
      },
      "source": [
        "plt.figure(figsize=(30,5))\n",
        "sns.countplot(data = mercado, y = 'fl_st_especial', hue = 'cluster').set_title('fl_st_especial')"
      ],
      "execution_count": null,
      "outputs": []
    },
    {
      "cell_type": "code",
      "metadata": {
        "id": "jj9pCFvdO-Wr",
        "colab_type": "code",
        "colab": {}
      },
      "source": [
        "plt.figure(figsize=(30,5))\n",
        "sns.countplot(data = mercado, y = 'fl_email', hue = 'cluster').set_title('fl_email')"
      ],
      "execution_count": null,
      "outputs": []
    },
    {
      "cell_type": "code",
      "metadata": {
        "id": "hmQvzlsrSJaf",
        "colab_type": "code",
        "colab": {}
      },
      "source": [
        "plt.figure(figsize=(30,5))\n",
        "sns.countplot(data = mercado, y = 'fl_telefone', hue = 'cluster').set_title('fl_telefone')"
      ],
      "execution_count": null,
      "outputs": []
    },
    {
      "cell_type": "code",
      "metadata": {
        "id": "l2l7Yi5HSJxK",
        "colab_type": "code",
        "colab": {}
      },
      "source": [
        "plt.figure(figsize=(30,5))\n",
        "sns.countplot(data = mercado, y = 'fl_spa', hue = 'cluster').set_title('fl_spa')"
      ],
      "execution_count": null,
      "outputs": []
    },
    {
      "cell_type": "code",
      "metadata": {
        "id": "FVVucFlvSJ9F",
        "colab_type": "code",
        "colab": {}
      },
      "source": [
        "plt.figure(figsize=(30,5))\n",
        "sns.countplot(data = mercado, y = 'fl_antt', hue = 'cluster').set_title('fl_antt')"
      ],
      "execution_count": null,
      "outputs": []
    },
    {
      "cell_type": "code",
      "metadata": {
        "id": "3nPsFA0ISKD1",
        "colab_type": "code",
        "colab": {}
      },
      "source": [
        "plt.figure(figsize=(30,5))\n",
        "sns.countplot(data = mercado, y = 'fl_simples_irregular', hue = 'cluster').set_title('fl_simples_irregular')"
      ],
      "execution_count": null,
      "outputs": []
    },
    {
      "cell_type": "code",
      "metadata": {
        "id": "6Kq67LLaSKTC",
        "colab_type": "code",
        "colab": {}
      },
      "source": [
        "plt.figure(figsize=(30,5))\n",
        "sns.countplot(data = mercado, y = 'fl_rm', hue = 'cluster').set_title('fl_rm')"
      ],
      "execution_count": null,
      "outputs": []
    },
    {
      "cell_type": "code",
      "metadata": {
        "id": "FpSRDQoFSKml",
        "colab_type": "code",
        "colab": {}
      },
      "source": [
        "plt.figure(figsize=(28,10))\n",
        "ax = sns.countplot(data=mercado, x='sg_uf_matriz', hue = 'cluster')"
      ],
      "execution_count": null,
      "outputs": []
    },
    {
      "cell_type": "code",
      "metadata": {
        "id": "dHIxQ5z3Twlx",
        "colab_type": "code",
        "colab": {}
      },
      "source": [
        "plt.figure(figsize=(28,10))\n",
        "ax = sns.countplot(data=mercado, x='sg_uf', hue = 'cluster')"
      ],
      "execution_count": null,
      "outputs": []
    },
    {
      "cell_type": "code",
      "metadata": {
        "id": "mq3EDFrvUDkV",
        "colab_type": "code",
        "colab": {}
      },
      "source": [
        "mercado['de_saude_rescencia']    = mercado['de_saude_rescencia'].replace(to_replace = {'ATE 3 MESES': 'ATE 6 MESES'})\n",
        "portfolio1['de_saude_rescencia'] = portfolio1['de_saude_rescencia'].replace(to_replace = {'ATE 3 MESES': 'ATE 6 MESES'})\n",
        "portfolio2['de_saude_rescencia'] = portfolio2['de_saude_rescencia'].replace(to_replace = {'ATE 3 MESES': 'ATE 6 MESES'})\n",
        "portfolio3['de_saude_rescencia'] = portfolio3['de_saude_rescencia'].replace(to_replace = {'ATE 3 MESES': 'ATE 6 MESES'})"
      ],
      "execution_count": null,
      "outputs": []
    },
    {
      "cell_type": "code",
      "metadata": {
        "id": "UZrxLdxqUD-9",
        "colab_type": "code",
        "colab": {}
      },
      "source": [
        "# visualizar a diferença\n",
        "plt.figure(figsize=(28,10))\n",
        "ax = sns.countplot(data=mercado, x='de_saude_rescencia', hue='cluster')"
      ],
      "execution_count": null,
      "outputs": []
    },
    {
      "cell_type": "code",
      "metadata": {
        "id": "X7bzOwSuUMZ9",
        "colab_type": "code",
        "colab": {}
      },
      "source": [
        "plt.figure(figsize=(28,10))\n",
        "ax = sns.countplot(data=mercado, x='de_saude_tributaria', hue='cluster')"
      ],
      "execution_count": null,
      "outputs": []
    },
    {
      "cell_type": "code",
      "metadata": {
        "id": "vIXucUaLSK1F",
        "colab_type": "code",
        "colab": {}
      },
      "source": [
        "# visualizar o resultado\n",
        "\n",
        "plt.figure(figsize=(30, 5))\n",
        "ax = sns.countplot(data=mercado, y = 'de_nivel_atividade', hue = 'cluster')"
      ],
      "execution_count": null,
      "outputs": []
    },
    {
      "cell_type": "markdown",
      "metadata": {
        "id": "y8MmQYqmHufH",
        "colab_type": "text"
      },
      "source": [
        "### DBScan\n",
        "\n",
        "O modelo DBScan é uma alternativa ao K-means. O problema do DBScan é que ele pode classificar pontos como ruído, ao invés de atribuí-lo a um cluster. "
      ]
    },
    {
      "cell_type": "code",
      "metadata": {
        "id": "QUTj9bcLSK5G",
        "colab_type": "code",
        "colab": {}
      },
      "source": [
        "from sklearn.cluster import DBSCAN\n",
        "\n",
        "dbscan_v1 = DBSCAN()\n",
        "\n",
        "# Fit\n",
        "dbscan_v1.fit(X)\n",
        "\n",
        "# Labels\n",
        "unique, counts = np.unique(dbscan_v1.labels_, return_counts=True)\n",
        "print(np.asarray((unique, counts)).T)"
      ],
      "execution_count": null,
      "outputs": []
    },
    {
      "cell_type": "markdown",
      "metadata": {
        "id": "lnmVbaDMP-VO",
        "colab_type": "text"
      },
      "source": [
        "O modelo DBSCAN encontrou grande quantidade de clusters."
      ]
    },
    {
      "cell_type": "code",
      "metadata": {
        "id": "Ge19j63LQG_L",
        "colab_type": "code",
        "colab": {}
      },
      "source": [
        ""
      ],
      "execution_count": null,
      "outputs": []
    }
  ]
}