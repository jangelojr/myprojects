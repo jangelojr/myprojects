{
  "nbformat": 4,
  "nbformat_minor": 0,
  "metadata": {
    "colab": {
      "name": "telecom_python.ipynb",
      "version": "0.3.2",
      "provenance": [],
      "collapsed_sections": []
    },
    "kernelspec": {
      "name": "python3",
      "display_name": "Python 3"
    },
    "accelerator": "GPU"
  },
  "cells": [
    {
      "cell_type": "markdown",
      "metadata": {
        "id": "lpuJU9f2TbIj",
        "colab_type": "text"
      },
      "source": [
        "# Apresentação e Objetivo do Projeto\n",
        "Data Science Academy\n",
        "\n",
        "Big Data Real-Time Analytics com Python e Spark\n",
        "\n",
        "Miniprojeto 4: Prever rotatividade em empresa de Telecom\n",
        "\n",
        "Autor: José Ângelo de Assis Júnior"
      ]
    },
    {
      "cell_type": "markdown",
      "metadata": {
        "id": "2tOpk-FXTsrq",
        "colab_type": "text"
      },
      "source": [
        "# FASE 1: Importação das Bibliotecas"
      ]
    },
    {
      "cell_type": "code",
      "metadata": {
        "id": "XCws0Xm9dOp8",
        "colab_type": "code",
        "colab": {}
      },
      "source": [
        "# imports necessários:\n",
        "# obrigatorios\n",
        "import pandas  as pd\n",
        "import numpy   as np\n",
        "# visualizacao\n",
        "import matplotlib.pyplot as plt\n",
        "import seaborn as sns\n",
        "# pre-processamento\n",
        "from sklearn.preprocessing import LabelEncoder\n",
        "from sklearn.preprocessing import OneHotEncoder\n",
        "# modelos\n",
        "from sklearn.model_selection  import GridSearchCV\n",
        "from sklearn.discriminant_analysis import LinearDiscriminantAnalysis\n",
        "from sklearn.model_selection  import cross_val_score\n",
        "from sklearn.model_selection  import KFold\n",
        "from sklearn.linear_model     import LogisticRegression\n",
        "from sklearn.neighbors        import KNeighborsClassifier\n",
        "from sklearn.tree             import DecisionTreeClassifier\n",
        "from sklearn.ensemble         import RandomForestClassifier\n",
        "from xgboost                  import XGBClassifier\n",
        "from sklearn.ensemble         import GradientBoostingClassifier\n",
        "# avaliação dos modelos\n",
        "from sklearn.metrics          import confusion_matrix\n",
        "from sklearn.utils.multiclass import unique_labels\n",
        "from sklearn.metrics          import roc_curve\n",
        "from sklearn.metrics          import roc_auc_score"
      ],
      "execution_count": 0,
      "outputs": []
    },
    {
      "cell_type": "code",
      "metadata": {
        "id": "2LXb9B32dzc_",
        "colab_type": "code",
        "colab": {}
      },
      "source": [
        "# importar arquivos csv para dataframe pandas\n",
        "df_treino = pd.read_csv('projeto4_telecom_treino.csv')\n",
        "df_teste  = pd.read_csv('projeto4_telecom_teste.csv')"
      ],
      "execution_count": 0,
      "outputs": []
    },
    {
      "cell_type": "code",
      "metadata": {
        "id": "O9eUE7mafHKc",
        "colab_type": "code",
        "outputId": "2d84a4ab-3dc3-47c4-e1fc-0c9b99256f5f",
        "colab": {
          "base_uri": "https://localhost:8080/",
          "height": 241
        }
      },
      "source": [
        "df_treino.head()"
      ],
      "execution_count": 3,
      "outputs": [
        {
          "output_type": "execute_result",
          "data": {
            "text/html": [
              "<div>\n",
              "<style scoped>\n",
              "    .dataframe tbody tr th:only-of-type {\n",
              "        vertical-align: middle;\n",
              "    }\n",
              "\n",
              "    .dataframe tbody tr th {\n",
              "        vertical-align: top;\n",
              "    }\n",
              "\n",
              "    .dataframe thead th {\n",
              "        text-align: right;\n",
              "    }\n",
              "</style>\n",
              "<table border=\"1\" class=\"dataframe\">\n",
              "  <thead>\n",
              "    <tr style=\"text-align: right;\">\n",
              "      <th></th>\n",
              "      <th>Unnamed: 0</th>\n",
              "      <th>state</th>\n",
              "      <th>account_length</th>\n",
              "      <th>area_code</th>\n",
              "      <th>international_plan</th>\n",
              "      <th>voice_mail_plan</th>\n",
              "      <th>number_vmail_messages</th>\n",
              "      <th>total_day_minutes</th>\n",
              "      <th>total_day_calls</th>\n",
              "      <th>total_day_charge</th>\n",
              "      <th>total_eve_minutes</th>\n",
              "      <th>total_eve_calls</th>\n",
              "      <th>total_eve_charge</th>\n",
              "      <th>total_night_minutes</th>\n",
              "      <th>total_night_calls</th>\n",
              "      <th>total_night_charge</th>\n",
              "      <th>total_intl_minutes</th>\n",
              "      <th>total_intl_calls</th>\n",
              "      <th>total_intl_charge</th>\n",
              "      <th>number_customer_service_calls</th>\n",
              "      <th>churn</th>\n",
              "    </tr>\n",
              "  </thead>\n",
              "  <tbody>\n",
              "    <tr>\n",
              "      <th>0</th>\n",
              "      <td>1</td>\n",
              "      <td>KS</td>\n",
              "      <td>128</td>\n",
              "      <td>area_code_415</td>\n",
              "      <td>no</td>\n",
              "      <td>yes</td>\n",
              "      <td>25</td>\n",
              "      <td>265.1</td>\n",
              "      <td>110</td>\n",
              "      <td>45.07</td>\n",
              "      <td>197.4</td>\n",
              "      <td>99</td>\n",
              "      <td>16.78</td>\n",
              "      <td>244.7</td>\n",
              "      <td>91</td>\n",
              "      <td>11.01</td>\n",
              "      <td>10.0</td>\n",
              "      <td>3</td>\n",
              "      <td>2.70</td>\n",
              "      <td>1</td>\n",
              "      <td>no</td>\n",
              "    </tr>\n",
              "    <tr>\n",
              "      <th>1</th>\n",
              "      <td>2</td>\n",
              "      <td>OH</td>\n",
              "      <td>107</td>\n",
              "      <td>area_code_415</td>\n",
              "      <td>no</td>\n",
              "      <td>yes</td>\n",
              "      <td>26</td>\n",
              "      <td>161.6</td>\n",
              "      <td>123</td>\n",
              "      <td>27.47</td>\n",
              "      <td>195.5</td>\n",
              "      <td>103</td>\n",
              "      <td>16.62</td>\n",
              "      <td>254.4</td>\n",
              "      <td>103</td>\n",
              "      <td>11.45</td>\n",
              "      <td>13.7</td>\n",
              "      <td>3</td>\n",
              "      <td>3.70</td>\n",
              "      <td>1</td>\n",
              "      <td>no</td>\n",
              "    </tr>\n",
              "    <tr>\n",
              "      <th>2</th>\n",
              "      <td>3</td>\n",
              "      <td>NJ</td>\n",
              "      <td>137</td>\n",
              "      <td>area_code_415</td>\n",
              "      <td>no</td>\n",
              "      <td>no</td>\n",
              "      <td>0</td>\n",
              "      <td>243.4</td>\n",
              "      <td>114</td>\n",
              "      <td>41.38</td>\n",
              "      <td>121.2</td>\n",
              "      <td>110</td>\n",
              "      <td>10.30</td>\n",
              "      <td>162.6</td>\n",
              "      <td>104</td>\n",
              "      <td>7.32</td>\n",
              "      <td>12.2</td>\n",
              "      <td>5</td>\n",
              "      <td>3.29</td>\n",
              "      <td>0</td>\n",
              "      <td>no</td>\n",
              "    </tr>\n",
              "    <tr>\n",
              "      <th>3</th>\n",
              "      <td>4</td>\n",
              "      <td>OH</td>\n",
              "      <td>84</td>\n",
              "      <td>area_code_408</td>\n",
              "      <td>yes</td>\n",
              "      <td>no</td>\n",
              "      <td>0</td>\n",
              "      <td>299.4</td>\n",
              "      <td>71</td>\n",
              "      <td>50.90</td>\n",
              "      <td>61.9</td>\n",
              "      <td>88</td>\n",
              "      <td>5.26</td>\n",
              "      <td>196.9</td>\n",
              "      <td>89</td>\n",
              "      <td>8.86</td>\n",
              "      <td>6.6</td>\n",
              "      <td>7</td>\n",
              "      <td>1.78</td>\n",
              "      <td>2</td>\n",
              "      <td>no</td>\n",
              "    </tr>\n",
              "    <tr>\n",
              "      <th>4</th>\n",
              "      <td>5</td>\n",
              "      <td>OK</td>\n",
              "      <td>75</td>\n",
              "      <td>area_code_415</td>\n",
              "      <td>yes</td>\n",
              "      <td>no</td>\n",
              "      <td>0</td>\n",
              "      <td>166.7</td>\n",
              "      <td>113</td>\n",
              "      <td>28.34</td>\n",
              "      <td>148.3</td>\n",
              "      <td>122</td>\n",
              "      <td>12.61</td>\n",
              "      <td>186.9</td>\n",
              "      <td>121</td>\n",
              "      <td>8.41</td>\n",
              "      <td>10.1</td>\n",
              "      <td>3</td>\n",
              "      <td>2.73</td>\n",
              "      <td>3</td>\n",
              "      <td>no</td>\n",
              "    </tr>\n",
              "  </tbody>\n",
              "</table>\n",
              "</div>"
            ],
            "text/plain": [
              "   Unnamed: 0 state  ...  number_customer_service_calls churn\n",
              "0           1    KS  ...                              1    no\n",
              "1           2    OH  ...                              1    no\n",
              "2           3    NJ  ...                              0    no\n",
              "3           4    OH  ...                              2    no\n",
              "4           5    OK  ...                              3    no\n",
              "\n",
              "[5 rows x 21 columns]"
            ]
          },
          "metadata": {
            "tags": []
          },
          "execution_count": 3
        }
      ]
    },
    {
      "cell_type": "code",
      "metadata": {
        "id": "PSOuyq2VfKeW",
        "colab_type": "code",
        "outputId": "545e1e74-ab85-4937-f3aa-1c1fe0e6e12a",
        "colab": {
          "base_uri": "https://localhost:8080/",
          "height": 241
        }
      },
      "source": [
        "df_teste.head()"
      ],
      "execution_count": 4,
      "outputs": [
        {
          "output_type": "execute_result",
          "data": {
            "text/html": [
              "<div>\n",
              "<style scoped>\n",
              "    .dataframe tbody tr th:only-of-type {\n",
              "        vertical-align: middle;\n",
              "    }\n",
              "\n",
              "    .dataframe tbody tr th {\n",
              "        vertical-align: top;\n",
              "    }\n",
              "\n",
              "    .dataframe thead th {\n",
              "        text-align: right;\n",
              "    }\n",
              "</style>\n",
              "<table border=\"1\" class=\"dataframe\">\n",
              "  <thead>\n",
              "    <tr style=\"text-align: right;\">\n",
              "      <th></th>\n",
              "      <th>Unnamed: 0</th>\n",
              "      <th>state</th>\n",
              "      <th>account_length</th>\n",
              "      <th>area_code</th>\n",
              "      <th>international_plan</th>\n",
              "      <th>voice_mail_plan</th>\n",
              "      <th>number_vmail_messages</th>\n",
              "      <th>total_day_minutes</th>\n",
              "      <th>total_day_calls</th>\n",
              "      <th>total_day_charge</th>\n",
              "      <th>total_eve_minutes</th>\n",
              "      <th>total_eve_calls</th>\n",
              "      <th>total_eve_charge</th>\n",
              "      <th>total_night_minutes</th>\n",
              "      <th>total_night_calls</th>\n",
              "      <th>total_night_charge</th>\n",
              "      <th>total_intl_minutes</th>\n",
              "      <th>total_intl_calls</th>\n",
              "      <th>total_intl_charge</th>\n",
              "      <th>number_customer_service_calls</th>\n",
              "      <th>churn</th>\n",
              "    </tr>\n",
              "  </thead>\n",
              "  <tbody>\n",
              "    <tr>\n",
              "      <th>0</th>\n",
              "      <td>1</td>\n",
              "      <td>HI</td>\n",
              "      <td>101</td>\n",
              "      <td>area_code_510</td>\n",
              "      <td>no</td>\n",
              "      <td>no</td>\n",
              "      <td>0</td>\n",
              "      <td>70.9</td>\n",
              "      <td>123</td>\n",
              "      <td>12.05</td>\n",
              "      <td>211.9</td>\n",
              "      <td>73</td>\n",
              "      <td>18.01</td>\n",
              "      <td>236.0</td>\n",
              "      <td>73</td>\n",
              "      <td>10.62</td>\n",
              "      <td>10.6</td>\n",
              "      <td>3</td>\n",
              "      <td>2.86</td>\n",
              "      <td>3</td>\n",
              "      <td>no</td>\n",
              "    </tr>\n",
              "    <tr>\n",
              "      <th>1</th>\n",
              "      <td>2</td>\n",
              "      <td>MT</td>\n",
              "      <td>137</td>\n",
              "      <td>area_code_510</td>\n",
              "      <td>no</td>\n",
              "      <td>no</td>\n",
              "      <td>0</td>\n",
              "      <td>223.6</td>\n",
              "      <td>86</td>\n",
              "      <td>38.01</td>\n",
              "      <td>244.8</td>\n",
              "      <td>139</td>\n",
              "      <td>20.81</td>\n",
              "      <td>94.2</td>\n",
              "      <td>81</td>\n",
              "      <td>4.24</td>\n",
              "      <td>9.5</td>\n",
              "      <td>7</td>\n",
              "      <td>2.57</td>\n",
              "      <td>0</td>\n",
              "      <td>no</td>\n",
              "    </tr>\n",
              "    <tr>\n",
              "      <th>2</th>\n",
              "      <td>3</td>\n",
              "      <td>OH</td>\n",
              "      <td>103</td>\n",
              "      <td>area_code_408</td>\n",
              "      <td>no</td>\n",
              "      <td>yes</td>\n",
              "      <td>29</td>\n",
              "      <td>294.7</td>\n",
              "      <td>95</td>\n",
              "      <td>50.10</td>\n",
              "      <td>237.3</td>\n",
              "      <td>105</td>\n",
              "      <td>20.17</td>\n",
              "      <td>300.3</td>\n",
              "      <td>127</td>\n",
              "      <td>13.51</td>\n",
              "      <td>13.7</td>\n",
              "      <td>6</td>\n",
              "      <td>3.70</td>\n",
              "      <td>1</td>\n",
              "      <td>no</td>\n",
              "    </tr>\n",
              "    <tr>\n",
              "      <th>3</th>\n",
              "      <td>4</td>\n",
              "      <td>NM</td>\n",
              "      <td>99</td>\n",
              "      <td>area_code_415</td>\n",
              "      <td>no</td>\n",
              "      <td>no</td>\n",
              "      <td>0</td>\n",
              "      <td>216.8</td>\n",
              "      <td>123</td>\n",
              "      <td>36.86</td>\n",
              "      <td>126.4</td>\n",
              "      <td>88</td>\n",
              "      <td>10.74</td>\n",
              "      <td>220.6</td>\n",
              "      <td>82</td>\n",
              "      <td>9.93</td>\n",
              "      <td>15.7</td>\n",
              "      <td>2</td>\n",
              "      <td>4.24</td>\n",
              "      <td>1</td>\n",
              "      <td>no</td>\n",
              "    </tr>\n",
              "    <tr>\n",
              "      <th>4</th>\n",
              "      <td>5</td>\n",
              "      <td>SC</td>\n",
              "      <td>108</td>\n",
              "      <td>area_code_415</td>\n",
              "      <td>no</td>\n",
              "      <td>no</td>\n",
              "      <td>0</td>\n",
              "      <td>197.4</td>\n",
              "      <td>78</td>\n",
              "      <td>33.56</td>\n",
              "      <td>124.0</td>\n",
              "      <td>101</td>\n",
              "      <td>10.54</td>\n",
              "      <td>204.5</td>\n",
              "      <td>107</td>\n",
              "      <td>9.20</td>\n",
              "      <td>7.7</td>\n",
              "      <td>4</td>\n",
              "      <td>2.08</td>\n",
              "      <td>2</td>\n",
              "      <td>no</td>\n",
              "    </tr>\n",
              "  </tbody>\n",
              "</table>\n",
              "</div>"
            ],
            "text/plain": [
              "   Unnamed: 0 state  ...  number_customer_service_calls churn\n",
              "0           1    HI  ...                              3    no\n",
              "1           2    MT  ...                              0    no\n",
              "2           3    OH  ...                              1    no\n",
              "3           4    NM  ...                              1    no\n",
              "4           5    SC  ...                              2    no\n",
              "\n",
              "[5 rows x 21 columns]"
            ]
          },
          "metadata": {
            "tags": []
          },
          "execution_count": 4
        }
      ]
    },
    {
      "cell_type": "code",
      "metadata": {
        "id": "Jx1RtTXjfMQH",
        "colab_type": "code",
        "outputId": "aa2f9c58-68e1-4621-8f1f-5d36716baf7f",
        "colab": {
          "base_uri": "https://localhost:8080/",
          "height": 459
        }
      },
      "source": [
        "df_treino.info()"
      ],
      "execution_count": 5,
      "outputs": [
        {
          "output_type": "stream",
          "text": [
            "<class 'pandas.core.frame.DataFrame'>\n",
            "RangeIndex: 3333 entries, 0 to 3332\n",
            "Data columns (total 21 columns):\n",
            "Unnamed: 0                       3333 non-null int64\n",
            "state                            3333 non-null object\n",
            "account_length                   3333 non-null int64\n",
            "area_code                        3333 non-null object\n",
            "international_plan               3333 non-null object\n",
            "voice_mail_plan                  3333 non-null object\n",
            "number_vmail_messages            3333 non-null int64\n",
            "total_day_minutes                3333 non-null float64\n",
            "total_day_calls                  3333 non-null int64\n",
            "total_day_charge                 3333 non-null float64\n",
            "total_eve_minutes                3333 non-null float64\n",
            "total_eve_calls                  3333 non-null int64\n",
            "total_eve_charge                 3333 non-null float64\n",
            "total_night_minutes              3333 non-null float64\n",
            "total_night_calls                3333 non-null int64\n",
            "total_night_charge               3333 non-null float64\n",
            "total_intl_minutes               3333 non-null float64\n",
            "total_intl_calls                 3333 non-null int64\n",
            "total_intl_charge                3333 non-null float64\n",
            "number_customer_service_calls    3333 non-null int64\n",
            "churn                            3333 non-null object\n",
            "dtypes: float64(8), int64(8), object(5)\n",
            "memory usage: 546.9+ KB\n"
          ],
          "name": "stdout"
        }
      ]
    },
    {
      "cell_type": "code",
      "metadata": {
        "id": "vUjKxV-9fONI",
        "colab_type": "code",
        "outputId": "57074c62-7701-4084-a76c-24b78bb95274",
        "colab": {
          "base_uri": "https://localhost:8080/",
          "height": 459
        }
      },
      "source": [
        "df_teste.info()"
      ],
      "execution_count": 6,
      "outputs": [
        {
          "output_type": "stream",
          "text": [
            "<class 'pandas.core.frame.DataFrame'>\n",
            "RangeIndex: 1667 entries, 0 to 1666\n",
            "Data columns (total 21 columns):\n",
            "Unnamed: 0                       1667 non-null int64\n",
            "state                            1667 non-null object\n",
            "account_length                   1667 non-null int64\n",
            "area_code                        1667 non-null object\n",
            "international_plan               1667 non-null object\n",
            "voice_mail_plan                  1667 non-null object\n",
            "number_vmail_messages            1667 non-null int64\n",
            "total_day_minutes                1667 non-null float64\n",
            "total_day_calls                  1667 non-null int64\n",
            "total_day_charge                 1667 non-null float64\n",
            "total_eve_minutes                1667 non-null float64\n",
            "total_eve_calls                  1667 non-null int64\n",
            "total_eve_charge                 1667 non-null float64\n",
            "total_night_minutes              1667 non-null float64\n",
            "total_night_calls                1667 non-null int64\n",
            "total_night_charge               1667 non-null float64\n",
            "total_intl_minutes               1667 non-null float64\n",
            "total_intl_calls                 1667 non-null int64\n",
            "total_intl_charge                1667 non-null float64\n",
            "number_customer_service_calls    1667 non-null int64\n",
            "churn                            1667 non-null object\n",
            "dtypes: float64(8), int64(8), object(5)\n",
            "memory usage: 273.6+ KB\n"
          ],
          "name": "stdout"
        }
      ]
    },
    {
      "cell_type": "code",
      "metadata": {
        "id": "N6EAQvTUfP0u",
        "colab_type": "code",
        "outputId": "c4ec6646-72a0-47f3-8369-7d49d2e7b537",
        "colab": {
          "base_uri": "https://localhost:8080/",
          "height": 34
        }
      },
      "source": [
        "df_treino.shape"
      ],
      "execution_count": 7,
      "outputs": [
        {
          "output_type": "execute_result",
          "data": {
            "text/plain": [
              "(3333, 21)"
            ]
          },
          "metadata": {
            "tags": []
          },
          "execution_count": 7
        }
      ]
    },
    {
      "cell_type": "code",
      "metadata": {
        "id": "lYsJFgJ6fa9s",
        "colab_type": "code",
        "outputId": "f8de7815-38e1-44f4-a1b3-879968f18c2a",
        "colab": {
          "base_uri": "https://localhost:8080/",
          "height": 34
        }
      },
      "source": [
        "df_teste.shape"
      ],
      "execution_count": 8,
      "outputs": [
        {
          "output_type": "execute_result",
          "data": {
            "text/plain": [
              "(1667, 21)"
            ]
          },
          "metadata": {
            "tags": []
          },
          "execution_count": 8
        }
      ]
    },
    {
      "cell_type": "markdown",
      "metadata": {
        "id": "ZAzD1fTHT5dY",
        "colab_type": "text"
      },
      "source": [
        "# FASE 2: Primeiro Processo de ETL"
      ]
    },
    {
      "cell_type": "code",
      "metadata": {
        "id": "Kw3A-U3re3vu",
        "colab_type": "code",
        "outputId": "8eff1b01-4478-437c-8d84-c750d1affd36",
        "colab": {
          "base_uri": "https://localhost:8080/",
          "height": 51
        }
      },
      "source": [
        "# checar valores missing em treino\n",
        "missing_val_count_by_column_treino = (df_treino.isnull().sum())\n",
        "print(missing_val_count_by_column_treino[missing_val_count_by_column_treino > 0])\n",
        "# checar valores missing em teste\n",
        "missing_val_count_by_column_teste = (df_teste.isnull().sum())\n",
        "print(missing_val_count_by_column_teste[missing_val_count_by_column_teste > 0])"
      ],
      "execution_count": 9,
      "outputs": [
        {
          "output_type": "stream",
          "text": [
            "Series([], dtype: int64)\n",
            "Series([], dtype: int64)\n"
          ],
          "name": "stdout"
        }
      ]
    },
    {
      "cell_type": "code",
      "metadata": {
        "id": "2FlgmeK-fwbw",
        "colab_type": "code",
        "outputId": "70b9e1fc-f689-4bd0-a761-0e9963444dae",
        "colab": {
          "base_uri": "https://localhost:8080/",
          "height": 51
        }
      },
      "source": [
        "# valores NaN treino\n",
        "nan_val_count_by_column_treino = (df_treino.isna().sum())\n",
        "print(nan_val_count_by_column_treino[nan_val_count_by_column_treino > 0])\n",
        "# valores NaN teste\n",
        "nan_val_count_by_column_teste = (df_teste.isna().sum())\n",
        "print(nan_val_count_by_column_teste[nan_val_count_by_column_teste > 0])"
      ],
      "execution_count": 10,
      "outputs": [
        {
          "output_type": "stream",
          "text": [
            "Series([], dtype: int64)\n",
            "Series([], dtype: int64)\n"
          ],
          "name": "stdout"
        }
      ]
    },
    {
      "cell_type": "code",
      "metadata": {
        "id": "YTcDZpCkm-6C",
        "colab_type": "code",
        "colab": {}
      },
      "source": [
        "# O campo Unnamed: 0 é um contador de linhas, removê-lo\n",
        "df_treino.drop('Unnamed: 0', axis = 1, inplace = True)\n",
        "df_teste.drop('Unnamed: 0',  axis = 1, inplace = True)"
      ],
      "execution_count": 0,
      "outputs": []
    },
    {
      "cell_type": "markdown",
      "metadata": {
        "id": "GXc4sK9KUEpD",
        "colab_type": "text"
      },
      "source": [
        "# FASE 3: Segundo Processo de ETL e Análise dos Dados"
      ]
    },
    {
      "cell_type": "code",
      "metadata": {
        "id": "AWaF7m6CgABc",
        "colab_type": "code",
        "outputId": "cb4edb69-a6b9-415c-d3b3-0b8da69a8059",
        "colab": {
          "base_uri": "https://localhost:8080/",
          "height": 317
        }
      },
      "source": [
        "# visualizar estatísticas das observações\n",
        "df_treino.describe()"
      ],
      "execution_count": 12,
      "outputs": [
        {
          "output_type": "execute_result",
          "data": {
            "text/html": [
              "<div>\n",
              "<style scoped>\n",
              "    .dataframe tbody tr th:only-of-type {\n",
              "        vertical-align: middle;\n",
              "    }\n",
              "\n",
              "    .dataframe tbody tr th {\n",
              "        vertical-align: top;\n",
              "    }\n",
              "\n",
              "    .dataframe thead th {\n",
              "        text-align: right;\n",
              "    }\n",
              "</style>\n",
              "<table border=\"1\" class=\"dataframe\">\n",
              "  <thead>\n",
              "    <tr style=\"text-align: right;\">\n",
              "      <th></th>\n",
              "      <th>account_length</th>\n",
              "      <th>number_vmail_messages</th>\n",
              "      <th>total_day_minutes</th>\n",
              "      <th>total_day_calls</th>\n",
              "      <th>total_day_charge</th>\n",
              "      <th>total_eve_minutes</th>\n",
              "      <th>total_eve_calls</th>\n",
              "      <th>total_eve_charge</th>\n",
              "      <th>total_night_minutes</th>\n",
              "      <th>total_night_calls</th>\n",
              "      <th>total_night_charge</th>\n",
              "      <th>total_intl_minutes</th>\n",
              "      <th>total_intl_calls</th>\n",
              "      <th>total_intl_charge</th>\n",
              "      <th>number_customer_service_calls</th>\n",
              "    </tr>\n",
              "  </thead>\n",
              "  <tbody>\n",
              "    <tr>\n",
              "      <th>count</th>\n",
              "      <td>3333.000000</td>\n",
              "      <td>3333.000000</td>\n",
              "      <td>3333.000000</td>\n",
              "      <td>3333.000000</td>\n",
              "      <td>3333.000000</td>\n",
              "      <td>3333.000000</td>\n",
              "      <td>3333.000000</td>\n",
              "      <td>3333.000000</td>\n",
              "      <td>3333.000000</td>\n",
              "      <td>3333.000000</td>\n",
              "      <td>3333.000000</td>\n",
              "      <td>3333.000000</td>\n",
              "      <td>3333.000000</td>\n",
              "      <td>3333.000000</td>\n",
              "      <td>3333.000000</td>\n",
              "    </tr>\n",
              "    <tr>\n",
              "      <th>mean</th>\n",
              "      <td>101.064806</td>\n",
              "      <td>8.099010</td>\n",
              "      <td>179.775098</td>\n",
              "      <td>100.435644</td>\n",
              "      <td>30.562307</td>\n",
              "      <td>200.980348</td>\n",
              "      <td>100.114311</td>\n",
              "      <td>17.083540</td>\n",
              "      <td>200.872037</td>\n",
              "      <td>100.107711</td>\n",
              "      <td>9.039325</td>\n",
              "      <td>10.237294</td>\n",
              "      <td>4.479448</td>\n",
              "      <td>2.764581</td>\n",
              "      <td>1.562856</td>\n",
              "    </tr>\n",
              "    <tr>\n",
              "      <th>std</th>\n",
              "      <td>39.822106</td>\n",
              "      <td>13.688365</td>\n",
              "      <td>54.467389</td>\n",
              "      <td>20.069084</td>\n",
              "      <td>9.259435</td>\n",
              "      <td>50.713844</td>\n",
              "      <td>19.922625</td>\n",
              "      <td>4.310668</td>\n",
              "      <td>50.573847</td>\n",
              "      <td>19.568609</td>\n",
              "      <td>2.275873</td>\n",
              "      <td>2.791840</td>\n",
              "      <td>2.461214</td>\n",
              "      <td>0.753773</td>\n",
              "      <td>1.315491</td>\n",
              "    </tr>\n",
              "    <tr>\n",
              "      <th>min</th>\n",
              "      <td>1.000000</td>\n",
              "      <td>0.000000</td>\n",
              "      <td>0.000000</td>\n",
              "      <td>0.000000</td>\n",
              "      <td>0.000000</td>\n",
              "      <td>0.000000</td>\n",
              "      <td>0.000000</td>\n",
              "      <td>0.000000</td>\n",
              "      <td>23.200000</td>\n",
              "      <td>33.000000</td>\n",
              "      <td>1.040000</td>\n",
              "      <td>0.000000</td>\n",
              "      <td>0.000000</td>\n",
              "      <td>0.000000</td>\n",
              "      <td>0.000000</td>\n",
              "    </tr>\n",
              "    <tr>\n",
              "      <th>25%</th>\n",
              "      <td>74.000000</td>\n",
              "      <td>0.000000</td>\n",
              "      <td>143.700000</td>\n",
              "      <td>87.000000</td>\n",
              "      <td>24.430000</td>\n",
              "      <td>166.600000</td>\n",
              "      <td>87.000000</td>\n",
              "      <td>14.160000</td>\n",
              "      <td>167.000000</td>\n",
              "      <td>87.000000</td>\n",
              "      <td>7.520000</td>\n",
              "      <td>8.500000</td>\n",
              "      <td>3.000000</td>\n",
              "      <td>2.300000</td>\n",
              "      <td>1.000000</td>\n",
              "    </tr>\n",
              "    <tr>\n",
              "      <th>50%</th>\n",
              "      <td>101.000000</td>\n",
              "      <td>0.000000</td>\n",
              "      <td>179.400000</td>\n",
              "      <td>101.000000</td>\n",
              "      <td>30.500000</td>\n",
              "      <td>201.400000</td>\n",
              "      <td>100.000000</td>\n",
              "      <td>17.120000</td>\n",
              "      <td>201.200000</td>\n",
              "      <td>100.000000</td>\n",
              "      <td>9.050000</td>\n",
              "      <td>10.300000</td>\n",
              "      <td>4.000000</td>\n",
              "      <td>2.780000</td>\n",
              "      <td>1.000000</td>\n",
              "    </tr>\n",
              "    <tr>\n",
              "      <th>75%</th>\n",
              "      <td>127.000000</td>\n",
              "      <td>20.000000</td>\n",
              "      <td>216.400000</td>\n",
              "      <td>114.000000</td>\n",
              "      <td>36.790000</td>\n",
              "      <td>235.300000</td>\n",
              "      <td>114.000000</td>\n",
              "      <td>20.000000</td>\n",
              "      <td>235.300000</td>\n",
              "      <td>113.000000</td>\n",
              "      <td>10.590000</td>\n",
              "      <td>12.100000</td>\n",
              "      <td>6.000000</td>\n",
              "      <td>3.270000</td>\n",
              "      <td>2.000000</td>\n",
              "    </tr>\n",
              "    <tr>\n",
              "      <th>max</th>\n",
              "      <td>243.000000</td>\n",
              "      <td>51.000000</td>\n",
              "      <td>350.800000</td>\n",
              "      <td>165.000000</td>\n",
              "      <td>59.640000</td>\n",
              "      <td>363.700000</td>\n",
              "      <td>170.000000</td>\n",
              "      <td>30.910000</td>\n",
              "      <td>395.000000</td>\n",
              "      <td>175.000000</td>\n",
              "      <td>17.770000</td>\n",
              "      <td>20.000000</td>\n",
              "      <td>20.000000</td>\n",
              "      <td>5.400000</td>\n",
              "      <td>9.000000</td>\n",
              "    </tr>\n",
              "  </tbody>\n",
              "</table>\n",
              "</div>"
            ],
            "text/plain": [
              "       account_length  ...  number_customer_service_calls\n",
              "count     3333.000000  ...                    3333.000000\n",
              "mean       101.064806  ...                       1.562856\n",
              "std         39.822106  ...                       1.315491\n",
              "min          1.000000  ...                       0.000000\n",
              "25%         74.000000  ...                       1.000000\n",
              "50%        101.000000  ...                       1.000000\n",
              "75%        127.000000  ...                       2.000000\n",
              "max        243.000000  ...                       9.000000\n",
              "\n",
              "[8 rows x 15 columns]"
            ]
          },
          "metadata": {
            "tags": []
          },
          "execution_count": 12
        }
      ]
    },
    {
      "cell_type": "code",
      "metadata": {
        "id": "zg0BVSn1gFYY",
        "colab_type": "code",
        "outputId": "97c439b6-c55e-4557-90a7-3eae30e320d7",
        "colab": {
          "base_uri": "https://localhost:8080/",
          "height": 283
        }
      },
      "source": [
        "# visualizar a contagem do campo TARGET em treino\n",
        "ax = sns.countplot(x = 'churn', data = df_treino, palette = 'Set3')"
      ],
      "execution_count": 13,
      "outputs": [
        {
          "output_type": "display_data",
          "data": {
            "image/png": "[encoded data removed]",
            "text/plain": [
              "<Figure size 432x288 with 1 Axes>"
            ]
          },
          "metadata": {
            "tags": []
          }
        }
      ]
    },
    {
      "cell_type": "code",
      "metadata": {
        "id": "0Af2rdKMMhAk",
        "colab_type": "code",
        "colab": {
          "base_uri": "https://localhost:8080/",
          "height": 283
        },
        "outputId": "af26456a-0ba8-49ec-dfd7-33a719187837"
      },
      "source": [
        "# visualizar a contagem do campo TARGET em teste\n",
        "ax = sns.countplot(x = 'churn', data = df_teste, palette = 'Set3')"
      ],
      "execution_count": 14,
      "outputs": [
        {
          "output_type": "display_data",
          "data": {
            "image/png": "[encoded data removed]",
            "text/plain": [
              "<Figure size 432x288 with 1 Axes>"
            ]
          },
          "metadata": {
            "tags": []
          }
        }
      ]
    },
    {
      "cell_type": "code",
      "metadata": {
        "id": "SzkwShc4ht2k",
        "colab_type": "code",
        "colab": {}
      },
      "source": [
        "# substituir 'no' por 1 e 'yes' por zero\n",
        "df_treino['churn'] = df_treino['churn'].map({'no': 1, 'yes': 0})\n",
        "df_teste['churn']  = df_teste['churn'].map({'no': 1, 'yes': 0})"
      ],
      "execution_count": 0,
      "outputs": []
    },
    {
      "cell_type": "code",
      "metadata": {
        "id": "iqgbCH-yhco0",
        "colab_type": "code",
        "colab": {}
      },
      "source": [
        "# lista de colunas categóricas\n",
        "lista_cat_cols = [col for col in df_treino.columns if df_treino[col].dtype == 'object']"
      ],
      "execution_count": 0,
      "outputs": []
    },
    {
      "cell_type": "code",
      "metadata": {
        "id": "YUpH7ZYSk4F2",
        "colab_type": "code",
        "outputId": "0c032bf3-2a0c-4f8a-d065-23a4b1a7e1b1",
        "colab": {
          "base_uri": "https://localhost:8080/",
          "height": 88
        }
      },
      "source": [
        "# Colunas categóricas presentes em ambos dataframes - 'good-cols'\n",
        "good_label_cols = [col for col in lista_cat_cols if set(df_treino[col]) == set(df_teste[col])]\n",
        "        \n",
        "# Colunas categóricas presente em um datagrame devem ser removidas - 'bad-cols'\n",
        "bad_label_cols = list(set(lista_cat_cols) - set(good_label_cols))\n",
        "        \n",
        "print('Colunas categóricas para label encoded:', good_label_cols)\n",
        "print('\\nColunas categóricas que devem ser removidas do dataset:', bad_label_cols)"
      ],
      "execution_count": 17,
      "outputs": [
        {
          "output_type": "stream",
          "text": [
            "Colunas categóricas para label encoded: ['state', 'area_code', 'international_plan', 'voice_mail_plan']\n",
            "\n",
            "Colunas categóricas que devem ser removidas do dataset: []\n"
          ],
          "name": "stdout"
        }
      ]
    },
    {
      "cell_type": "code",
      "metadata": {
        "id": "9ol1HUiYk3_L",
        "colab_type": "code",
        "outputId": "5fa9d4d7-dc2e-4ae3-d98a-1502eda5e0b7",
        "colab": {
          "base_uri": "https://localhost:8080/",
          "height": 34
        }
      },
      "source": [
        "good_label_cols"
      ],
      "execution_count": 18,
      "outputs": [
        {
          "output_type": "execute_result",
          "data": {
            "text/plain": [
              "['state', 'area_code', 'international_plan', 'voice_mail_plan']"
            ]
          },
          "metadata": {
            "tags": []
          },
          "execution_count": 18
        }
      ]
    },
    {
      "cell_type": "code",
      "metadata": {
        "id": "QaPc409nkOdi",
        "colab_type": "code",
        "outputId": "250ba2bd-1fef-43e9-8067-649b62eb8f8f",
        "colab": {
          "base_uri": "https://localhost:8080/",
          "height": 85
        }
      },
      "source": [
        "# cardinalidade - número de valores únicos em cada coluna categórica\n",
        "ls_vlrs_unicos = list(map(lambda col: df_treino[col].nunique(), lista_cat_cols))\n",
        "d = dict(zip(lista_cat_cols, ls_vlrs_unicos))\n",
        "\n",
        "# valores únicos por coluna em ordem ascendente\n",
        "sorted(d.items(), key=lambda x: x[1])"
      ],
      "execution_count": 19,
      "outputs": [
        {
          "output_type": "execute_result",
          "data": {
            "text/plain": [
              "[('international_plan', 2),\n",
              " ('voice_mail_plan', 2),\n",
              " ('area_code', 3),\n",
              " ('state', 51)]"
            ]
          },
          "metadata": {
            "tags": []
          },
          "execution_count": 19
        }
      ]
    },
    {
      "cell_type": "code",
      "metadata": {
        "id": "G0GCjNhMrs6G",
        "colab_type": "code",
        "outputId": "6bc97e24-c6df-4247-bb12-ed57d23f101d",
        "colab": {
          "base_uri": "https://localhost:8080/",
          "height": 284
        }
      },
      "source": [
        "# visualizar as colunas categóricos com até 3 valores distintos\n",
        "# dataset de treino:\n",
        "ax = sns.countplot(x = 'international_plan', data = df_treino, palette = 'Set3')"
      ],
      "execution_count": 20,
      "outputs": [
        {
          "output_type": "display_data",
          "data": {
            "image/png": "[encoded data removed]",
            "text/plain": [
              "<Figure size 432x288 with 1 Axes>"
            ]
          },
          "metadata": {
            "tags": []
          }
        }
      ]
    },
    {
      "cell_type": "code",
      "metadata": {
        "id": "yasXcRXPM7jl",
        "colab_type": "code",
        "colab": {
          "base_uri": "https://localhost:8080/",
          "height": 284
        },
        "outputId": "4e4104d3-0ce9-4acf-830f-08e4b74cbf52"
      },
      "source": [
        "# dataset de teste:\n",
        "ax = sns.countplot(x = 'international_plan', data = df_teste, palette = 'Set3')"
      ],
      "execution_count": 21,
      "outputs": [
        {
          "output_type": "display_data",
          "data": {
            "image/png": "[encoded data removed]",
            "text/plain": [
              "<Figure size 432x288 with 1 Axes>"
            ]
          },
          "metadata": {
            "tags": []
          }
        }
      ]
    },
    {
      "cell_type": "code",
      "metadata": {
        "id": "4nDqpZmzsDF-",
        "colab_type": "code",
        "outputId": "ba385e3a-16b5-4bb3-bbd0-8cb4319e90ea",
        "colab": {
          "base_uri": "https://localhost:8080/",
          "height": 284
        }
      },
      "source": [
        "# dataset de treino:\n",
        "ax = sns.countplot(x = 'voice_mail_plan', data = df_treino, palette = 'Set3')"
      ],
      "execution_count": 22,
      "outputs": [
        {
          "output_type": "display_data",
          "data": {
            "image/png": "[encoded data removed]",
            "text/plain": [
              "<Figure size 432x288 with 1 Axes>"
            ]
          },
          "metadata": {
            "tags": []
          }
        }
      ]
    },
    {
      "cell_type": "code",
      "metadata": {
        "id": "NIgfDKonNDMK",
        "colab_type": "code",
        "colab": {
          "base_uri": "https://localhost:8080/",
          "height": 284
        },
        "outputId": "c2264557-cce6-4147-d5a7-4e142a0f6743"
      },
      "source": [
        "# dataset de teste:\n",
        "ax = sns.countplot(x = 'voice_mail_plan', data = df_teste, palette = 'Set3')"
      ],
      "execution_count": 23,
      "outputs": [
        {
          "output_type": "display_data",
          "data": {
            "image/png": "[encoded data removed]",
            "text/plain": [
              "<Figure size 432x288 with 1 Axes>"
            ]
          },
          "metadata": {
            "tags": []
          }
        }
      ]
    },
    {
      "cell_type": "code",
      "metadata": {
        "id": "FJ-uJVugsEm3",
        "colab_type": "code",
        "outputId": "53a6c5bf-1463-4747-a8d6-0fbffede8ee6",
        "colab": {
          "base_uri": "https://localhost:8080/",
          "height": 285
        }
      },
      "source": [
        "# dataset de treino\n",
        "ax = sns.countplot(x = 'area_code', data = df_treino, palette = 'Set3')"
      ],
      "execution_count": 24,
      "outputs": [
        {
          "output_type": "display_data",
          "data": {
            "image/png": "[encoded data removed]",
            "text/plain": [
              "<Figure size 432x288 with 1 Axes>"
            ]
          },
          "metadata": {
            "tags": []
          }
        }
      ]
    },
    {
      "cell_type": "code",
      "metadata": {
        "id": "RbqH-AtfNMKi",
        "colab_type": "code",
        "colab": {
          "base_uri": "https://localhost:8080/",
          "height": 285
        },
        "outputId": "2c202840-c5d3-4ca6-ba96-908e333778a4"
      },
      "source": [
        "# dataset de teste\n",
        "ax = sns.countplot(x = 'area_code', data = df_teste, palette = 'Set3')"
      ],
      "execution_count": 25,
      "outputs": [
        {
          "output_type": "display_data",
          "data": {
            "image/png": "[encoded data removed]",
            "text/plain": [
              "<Figure size 432x288 with 1 Axes>"
            ]
          },
          "metadata": {
            "tags": []
          }
        }
      ]
    },
    {
      "cell_type": "code",
      "metadata": {
        "id": "SEOsSq7AsBE5",
        "colab_type": "code",
        "outputId": "8acf4539-8e35-4a0e-a442-a2fc7419eebb",
        "colab": {
          "base_uri": "https://localhost:8080/",
          "height": 88
        }
      },
      "source": [
        "# Colunas que vão passar pelo processo de one-hot-encoded:\n",
        "ls_baixa_cardinalidade = [col for col in lista_cat_cols if df_treino[col].nunique() < 10]\n",
        "\n",
        "# colunas que serão removidas por terem alta cardinalidade (não contribuem com predição)\n",
        "ls_alta_cardinalidade  = list(set(lista_cat_cols) - set(ls_baixa_cardinalidade))\n",
        "\n",
        "print('Colunas categóricas que passaram por one-hot encoded:', ls_baixa_cardinalidade)\n",
        "print('\\nColunas categóricas que serão excluídas dos datasets:', ls_alta_cardinalidade)"
      ],
      "execution_count": 26,
      "outputs": [
        {
          "output_type": "stream",
          "text": [
            "Colunas categóricas que passaram por one-hot encoded: ['area_code', 'international_plan', 'voice_mail_plan']\n",
            "\n",
            "Colunas categóricas que serão excluídas dos datasets: ['state']\n"
          ],
          "name": "stdout"
        }
      ]
    },
    {
      "cell_type": "code",
      "metadata": {
        "id": "0hgZKv43wIn6",
        "colab_type": "code",
        "colab": {}
      },
      "source": [
        "# remover colunas com alta cardinalidade (não contribuem com predição)\n",
        "df_treino.drop(ls_alta_cardinalidade, axis = 1, inplace = True)\n",
        "df_teste.drop(ls_alta_cardinalidade,  axis = 1, inplace = True)"
      ],
      "execution_count": 0,
      "outputs": []
    },
    {
      "cell_type": "code",
      "metadata": {
        "id": "e7F00CvYw2Q7",
        "colab_type": "code",
        "colab": {}
      },
      "source": [
        "# aplicar o one-hot encoding sobre cada coluna categórica restante\n",
        "# instanciar o one-hot-enconder com:\n",
        "#    handle_unknown = 'ignore': para evitar quando as classes de treino e teste forem diferentes\n",
        "#    sparse = False: para que seja retornado Numpy array e não matriz esparsa\n",
        "OH_encoder = OneHotEncoder(handle_unknown='ignore', sparse=False)\n",
        "\n",
        "# aplicar nos datasets\n",
        "OH_cols_treino = pd.DataFrame(OH_encoder.fit_transform(df_treino[ls_baixa_cardinalidade]))\n",
        "OH_cols_teste  = pd.DataFrame(OH_encoder.transform(df_teste[ls_baixa_cardinalidade]))"
      ],
      "execution_count": 0,
      "outputs": []
    },
    {
      "cell_type": "code",
      "metadata": {
        "id": "qSoimTlMyRN3",
        "colab_type": "code",
        "colab": {}
      },
      "source": [
        "# o processo de one-hot encoding remove os índices, reinseri-los\n",
        "OH_cols_treino.index = df_treino.index\n",
        "OH_cols_teste.index  = df_teste.index"
      ],
      "execution_count": 0,
      "outputs": []
    },
    {
      "cell_type": "code",
      "metadata": {
        "id": "cQlZkjF4y_bO",
        "colab_type": "code",
        "colab": {}
      },
      "source": [
        "# remover os dados categóricos dos dataframes, para serem substituídos pelos acima\n",
        "df_treino.drop(ls_baixa_cardinalidade, axis = 1, inplace = True)\n",
        "df_teste.drop(ls_baixa_cardinalidade,  axis = 1, inplace = True)"
      ],
      "execution_count": 0,
      "outputs": []
    },
    {
      "cell_type": "code",
      "metadata": {
        "id": "0kc4f-vrziO1",
        "colab_type": "code",
        "colab": {}
      },
      "source": [
        "# concatenar os datasets com os hot-encoded\n",
        "df_treino = pd.concat([df_treino, OH_cols_treino], axis = 1)\n",
        "df_teste  = pd.concat([df_teste,  OH_cols_teste],  axis = 1)"
      ],
      "execution_count": 0,
      "outputs": []
    },
    {
      "cell_type": "code",
      "metadata": {
        "id": "cWfdLCxQ0K2w",
        "colab_type": "code",
        "outputId": "8abd4e36-39e6-487f-f051-14bafe978aba",
        "colab": {
          "base_uri": "https://localhost:8080/",
          "height": 493
        }
      },
      "source": [
        "# ver resultado:\n",
        "df_treino.info()"
      ],
      "execution_count": 32,
      "outputs": [
        {
          "output_type": "stream",
          "text": [
            "<class 'pandas.core.frame.DataFrame'>\n",
            "RangeIndex: 3333 entries, 0 to 3332\n",
            "Data columns (total 23 columns):\n",
            "account_length                   3333 non-null int64\n",
            "number_vmail_messages            3333 non-null int64\n",
            "total_day_minutes                3333 non-null float64\n",
            "total_day_calls                  3333 non-null int64\n",
            "total_day_charge                 3333 non-null float64\n",
            "total_eve_minutes                3333 non-null float64\n",
            "total_eve_calls                  3333 non-null int64\n",
            "total_eve_charge                 3333 non-null float64\n",
            "total_night_minutes              3333 non-null float64\n",
            "total_night_calls                3333 non-null int64\n",
            "total_night_charge               3333 non-null float64\n",
            "total_intl_minutes               3333 non-null float64\n",
            "total_intl_calls                 3333 non-null int64\n",
            "total_intl_charge                3333 non-null float64\n",
            "number_customer_service_calls    3333 non-null int64\n",
            "churn                            3333 non-null int64\n",
            "0                                3333 non-null float64\n",
            "1                                3333 non-null float64\n",
            "2                                3333 non-null float64\n",
            "3                                3333 non-null float64\n",
            "4                                3333 non-null float64\n",
            "5                                3333 non-null float64\n",
            "6                                3333 non-null float64\n",
            "dtypes: float64(15), int64(8)\n",
            "memory usage: 599.0 KB\n"
          ],
          "name": "stdout"
        }
      ]
    },
    {
      "cell_type": "code",
      "metadata": {
        "id": "8wPKDrFr0OrY",
        "colab_type": "code",
        "outputId": "f47ed5bd-f87f-4011-db32-5c76b42ae4d3",
        "colab": {
          "base_uri": "https://localhost:8080/",
          "height": 493
        }
      },
      "source": [
        "df_teste.info()"
      ],
      "execution_count": 33,
      "outputs": [
        {
          "output_type": "stream",
          "text": [
            "<class 'pandas.core.frame.DataFrame'>\n",
            "RangeIndex: 1667 entries, 0 to 1666\n",
            "Data columns (total 23 columns):\n",
            "account_length                   1667 non-null int64\n",
            "number_vmail_messages            1667 non-null int64\n",
            "total_day_minutes                1667 non-null float64\n",
            "total_day_calls                  1667 non-null int64\n",
            "total_day_charge                 1667 non-null float64\n",
            "total_eve_minutes                1667 non-null float64\n",
            "total_eve_calls                  1667 non-null int64\n",
            "total_eve_charge                 1667 non-null float64\n",
            "total_night_minutes              1667 non-null float64\n",
            "total_night_calls                1667 non-null int64\n",
            "total_night_charge               1667 non-null float64\n",
            "total_intl_minutes               1667 non-null float64\n",
            "total_intl_calls                 1667 non-null int64\n",
            "total_intl_charge                1667 non-null float64\n",
            "number_customer_service_calls    1667 non-null int64\n",
            "churn                            1667 non-null int64\n",
            "0                                1667 non-null float64\n",
            "1                                1667 non-null float64\n",
            "2                                1667 non-null float64\n",
            "3                                1667 non-null float64\n",
            "4                                1667 non-null float64\n",
            "5                                1667 non-null float64\n",
            "6                                1667 non-null float64\n",
            "dtypes: float64(15), int64(8)\n",
            "memory usage: 299.6 KB\n"
          ],
          "name": "stdout"
        }
      ]
    },
    {
      "cell_type": "code",
      "metadata": {
        "id": "UAoEy8M90Inl",
        "colab_type": "code",
        "outputId": "9260d6c3-55e7-4c4b-fc25-2bdfc7f6e22e",
        "colab": {
          "base_uri": "https://localhost:8080/",
          "height": 425
        }
      },
      "source": [
        "# calcular a correlação:\n",
        "df_treino[df_treino.columns[0:]].corr()['churn'][:]"
      ],
      "execution_count": 34,
      "outputs": [
        {
          "output_type": "execute_result",
          "data": {
            "text/plain": [
              "account_length                  -0.016541\n",
              "number_vmail_messages            0.089728\n",
              "total_day_minutes               -0.205151\n",
              "total_day_calls                 -0.018459\n",
              "total_day_charge                -0.205151\n",
              "total_eve_minutes               -0.092796\n",
              "total_eve_calls                 -0.009233\n",
              "total_eve_charge                -0.092786\n",
              "total_night_minutes             -0.035493\n",
              "total_night_calls               -0.006141\n",
              "total_night_charge              -0.035496\n",
              "total_intl_minutes              -0.068239\n",
              "total_intl_calls                 0.052844\n",
              "total_intl_charge               -0.068259\n",
              "number_customer_service_calls   -0.208750\n",
              "churn                            1.000000\n",
              "0                               -0.001103\n",
              "1                                0.006535\n",
              "2                               -0.006423\n",
              "3                                0.259852\n",
              "4                               -0.259852\n",
              "5                               -0.102148\n",
              "6                                0.102148\n",
              "Name: churn, dtype: float64"
            ]
          },
          "metadata": {
            "tags": []
          },
          "execution_count": 34
        }
      ]
    },
    {
      "cell_type": "markdown",
      "metadata": {
        "id": "V0HtTVXUURpD",
        "colab_type": "text"
      },
      "source": [
        "# FASE 4: ML parte 1 - Treinar Diversos Modelos e Detectar os Melhores"
      ]
    },
    {
      "cell_type": "code",
      "metadata": {
        "id": "JZ4KLGjn1mFs",
        "colab_type": "code",
        "colab": {}
      },
      "source": [
        "# cross-validation\n",
        "num_folds = 8\n",
        "seed      = 7\n",
        "\n",
        "# definir os dados\n",
        "X = df_treino.drop('churn', axis = 1) # preditores\n",
        "Y = df_treino['churn'] # classe\n",
        "\n",
        "# Separar os dados em folds\n",
        "kfold = KFold(num_folds, True, random_state = seed)\n",
        "\n",
        "# Definir o número de árvores\n",
        "num_trees    = 500\n",
        "max_features = 3\n",
        "\n",
        "# instanciar os modelos\n",
        "model_1 = LogisticRegression()\n",
        "model_2 = LinearDiscriminantAnalysis()\n",
        "model_3 = KNeighborsClassifier()\n",
        "model_4 = DecisionTreeClassifier()\n",
        "model_5 = RandomForestClassifier(n_estimators=num_trees, max_depth=2, max_features = max_features, random_state=seed)\n",
        "model_6 = XGBClassifier()\n",
        "model_7 = GradientBoostingClassifier(n_estimators = num_trees, random_state = seed)\n",
        "\n",
        "# criar dicionário de modelos:\n",
        "dict_models = {'Regr_log': model_1, 'LDA': model_2, 'KNN': model_3, 'Dec_Tree': model_4,\n",
        "               'RandForest': model_5, 'XGB': model_6, 'GradBoos': model_7}"
      ],
      "execution_count": 0,
      "outputs": []
    },
    {
      "cell_type": "code",
      "metadata": {
        "id": "uCMqhH0J2HG4",
        "colab_type": "code",
        "outputId": "3ece869c-34ce-4c00-d1ee-375318c7061e",
        "colab": {
          "base_uri": "https://localhost:8080/",
          "height": 1000
        }
      },
      "source": [
        "# treinar os modelos e selecionar os melhores\n",
        "dict_acuracia_modelos = {}\n",
        "\n",
        "for k, v in dict_models.items():\n",
        "    resultado = cross_val_score(v, X, Y, cv = kfold)\n",
        "    acuracia  = resultado.mean()\n",
        "    print('modelo: ', k)\n",
        "    print('resultado: ', acuracia)\n",
        "    if (acuracia > 0.9):\n",
        "        dict_acuracia_modelos[k] = acuracia\n",
        "        \n",
        "# Melhores resultados:\n",
        "ax = sns.barplot(x = list(dict_acuracia_modelos.keys()),\n",
        "                 y = list(dict_acuracia_modelos.values()),\n",
        "                 hue_order = list(dict_acuracia_modelos.keys()),\n",
        "                 palette = 'Set3')"
      ],
      "execution_count": 36,
      "outputs": [
        {
          "output_type": "stream",
          "text": [
            "/usr/local/lib/python3.6/dist-packages/sklearn/linear_model/logistic.py:432: FutureWarning: Default solver will be changed to 'lbfgs' in 0.22. Specify a solver to silence this warning.\n",
            "  FutureWarning)\n",
            "/usr/local/lib/python3.6/dist-packages/sklearn/linear_model/logistic.py:432: FutureWarning: Default solver will be changed to 'lbfgs' in 0.22. Specify a solver to silence this warning.\n",
            "  FutureWarning)\n",
            "/usr/local/lib/python3.6/dist-packages/sklearn/linear_model/logistic.py:432: FutureWarning: Default solver will be changed to 'lbfgs' in 0.22. Specify a solver to silence this warning.\n",
            "  FutureWarning)\n",
            "/usr/local/lib/python3.6/dist-packages/sklearn/linear_model/logistic.py:432: FutureWarning: Default solver will be changed to 'lbfgs' in 0.22. Specify a solver to silence this warning.\n",
            "  FutureWarning)\n",
            "/usr/local/lib/python3.6/dist-packages/sklearn/linear_model/logistic.py:432: FutureWarning: Default solver will be changed to 'lbfgs' in 0.22. Specify a solver to silence this warning.\n",
            "  FutureWarning)\n",
            "/usr/local/lib/python3.6/dist-packages/sklearn/linear_model/logistic.py:432: FutureWarning: Default solver will be changed to 'lbfgs' in 0.22. Specify a solver to silence this warning.\n",
            "  FutureWarning)\n",
            "/usr/local/lib/python3.6/dist-packages/sklearn/linear_model/logistic.py:432: FutureWarning: Default solver will be changed to 'lbfgs' in 0.22. Specify a solver to silence this warning.\n",
            "  FutureWarning)\n",
            "/usr/local/lib/python3.6/dist-packages/sklearn/linear_model/logistic.py:432: FutureWarning: Default solver will be changed to 'lbfgs' in 0.22. Specify a solver to silence this warning.\n",
            "  FutureWarning)\n",
            "/usr/local/lib/python3.6/dist-packages/sklearn/discriminant_analysis.py:388: UserWarning: Variables are collinear.\n",
            "  warnings.warn(\"Variables are collinear.\")\n"
          ],
          "name": "stderr"
        },
        {
          "output_type": "stream",
          "text": [
            "modelo:  Regr_log\n",
            "resultado:  0.8583777209002029\n",
            "modelo:  LDA\n",
            "resultado:  0.8520719482106622\n"
          ],
          "name": "stdout"
        },
        {
          "output_type": "stream",
          "text": [
            "/usr/local/lib/python3.6/dist-packages/sklearn/discriminant_analysis.py:388: UserWarning: Variables are collinear.\n",
            "  warnings.warn(\"Variables are collinear.\")\n",
            "/usr/local/lib/python3.6/dist-packages/sklearn/discriminant_analysis.py:388: UserWarning: Variables are collinear.\n",
            "  warnings.warn(\"Variables are collinear.\")\n",
            "/usr/local/lib/python3.6/dist-packages/sklearn/discriminant_analysis.py:388: UserWarning: Variables are collinear.\n",
            "  warnings.warn(\"Variables are collinear.\")\n",
            "/usr/local/lib/python3.6/dist-packages/sklearn/discriminant_analysis.py:388: UserWarning: Variables are collinear.\n",
            "  warnings.warn(\"Variables are collinear.\")\n",
            "/usr/local/lib/python3.6/dist-packages/sklearn/discriminant_analysis.py:388: UserWarning: Variables are collinear.\n",
            "  warnings.warn(\"Variables are collinear.\")\n",
            "/usr/local/lib/python3.6/dist-packages/sklearn/discriminant_analysis.py:388: UserWarning: Variables are collinear.\n",
            "  warnings.warn(\"Variables are collinear.\")\n",
            "/usr/local/lib/python3.6/dist-packages/sklearn/discriminant_analysis.py:388: UserWarning: Variables are collinear.\n",
            "  warnings.warn(\"Variables are collinear.\")\n"
          ],
          "name": "stderr"
        },
        {
          "output_type": "stream",
          "text": [
            "modelo:  KNN\n",
            "resultado:  0.8784760653016048\n",
            "modelo:  Dec_Tree\n",
            "resultado:  0.9159914856576278\n",
            "modelo:  RandForest\n",
            "resultado:  0.8550717118612802\n",
            "modelo:  XGB\n",
            "resultado:  0.9513891290813503\n",
            "modelo:  GradBoos\n",
            "resultado:  0.9543888927319684\n"
          ],
          "name": "stdout"
        },
        {
          "output_type": "display_data",
          "data": {
            "image/png": "[encoded data removed]",
            "text/plain": [
              "<Figure size 432x288 with 1 Axes>"
            ]
          },
          "metadata": {
            "tags": []
          }
        }
      ]
    },
    {
      "cell_type": "markdown",
      "metadata": {
        "id": "GVSvwivfUphd",
        "colab_type": "text"
      },
      "source": [
        "# FASE 4: ML parte 2 - Tunning Parâmetros para Melhores Modelos"
      ]
    },
    {
      "cell_type": "code",
      "metadata": {
        "id": "oalCCxPA39VI",
        "colab_type": "code",
        "outputId": "9a1d6960-2a60-44cb-e173-7835901f4dc3",
        "colab": {
          "base_uri": "https://localhost:8080/",
          "height": 632
        }
      },
      "source": [
        "# Melhores modelos: Decision Tree, XGB e Gradent Boosting\n",
        "# Fazer tunning dos melhores modelos para aplicar validação\n",
        "\n",
        "# Definindo os valores para tunning\n",
        "XGB_parm = {'min_child_weight': [1, 5, 10],\n",
        "            'gamma': [0.5, 1, 1.5, 2, 5],\n",
        "            'subsample': [0.6, 0.8, 1.0],\n",
        "            'colsample_bytree': [0.6, 0.8, 1.0],\n",
        "            'max_depth': [3, 4, 5]}\n",
        "\n",
        "Dec_Tree = dict(min_samples_split = list(range(2, 50)))\n",
        "\n",
        "GB_Class = {'learning_rate': [0.1, 0.2, 0.5],\n",
        "            'max_depth': [10, 20, 50],\n",
        "            'max_features': [0.5, 0.8, 1.0],\n",
        "            'max_leaf_nodes': [10, 50, 100],\n",
        "            'min_impurity_decrease': [0, 0.1, 0.2],\n",
        "            'min_samples_leaf': [5, 10, 20],\n",
        "            'min_samples_split': [5, 10, 20],\n",
        "            'n_estimators': [10, 50, 100]}\n",
        "    \n",
        "# instanciar os modelos\n",
        "modelo_XGB_parm = XGBClassifier()\n",
        "modelo_Dec_Tree = DecisionTreeClassifier()\n",
        "modelo_GB_Class = GradientBoostingClassifier()\n",
        "\n",
        "# Criar o grid XGB\n",
        "grid_XGB = GridSearchCV(n_jobs = -1, estimator = modelo_XGB_parm, param_grid = XGB_parm)\n",
        "grid_XGB.fit(X, Y)\n",
        "# Print dos resultados\n",
        "print(\"Acurácia XGB: %.3f\" % (grid_XGB.best_score_ * 100))\n",
        "print(\"Melhores Parâmetros XGB:\\n\", grid_XGB.best_estimator_)\n",
        "\n",
        "# Criar o grid Decision Tree\n",
        "grid_Dec_Tree = GridSearchCV(n_jobs = -1, estimator = modelo_Dec_Tree, param_grid = Dec_Tree)\n",
        "grid_Dec_Tree.fit(X, Y)\n",
        "# Print dos resultados\n",
        "print(\"Acurácia Dec_Tree: %.3f\" % (grid_Dec_Tree.best_score_ * 100))\n",
        "print(\"Melhores Parâmetros Dec_Tree:\\n\", grid_Dec_Tree.best_estimator_)\n",
        "\n",
        "# Criar o grid Gradient Boosting\n",
        "grid_GB_Class = GridSearchCV(n_jobs = -1, estimator = modelo_GB_Class, param_grid = GB_Class)\n",
        "grid_GB_Class.fit(X, Y)\n",
        "# Print dos resultados\n",
        "print(\"Acurácia GB_Class: %.3f\" % (grid_GB_Class.best_score_ * 100))\n",
        "print(\"Melhores Parâmetros GB_Class:\\n\", grid_GB_Class.best_estimator_)"
      ],
      "execution_count": 37,
      "outputs": [
        {
          "output_type": "stream",
          "text": [
            "/usr/local/lib/python3.6/dist-packages/sklearn/model_selection/_split.py:1978: FutureWarning: The default value of cv will change from 3 to 5 in version 0.22. Specify it explicitly to silence this warning.\n",
            "  warnings.warn(CV_WARNING, FutureWarning)\n"
          ],
          "name": "stderr"
        },
        {
          "output_type": "stream",
          "text": [
            "Acurácia XGB: 95.920\n",
            "Melhores Parâmetros XGB:\n",
            " XGBClassifier(base_score=0.5, booster='gbtree', colsample_bylevel=1,\n",
            "              colsample_bynode=1, colsample_bytree=0.8, gamma=1,\n",
            "              learning_rate=0.1, max_delta_step=0, max_depth=4,\n",
            "              min_child_weight=1, missing=None, n_estimators=100, n_jobs=1,\n",
            "              nthread=None, objective='binary:logistic', random_state=0,\n",
            "              reg_alpha=0, reg_lambda=1, scale_pos_weight=1, seed=None,\n",
            "              silent=None, subsample=0.8, verbosity=1)\n"
          ],
          "name": "stdout"
        },
        {
          "output_type": "stream",
          "text": [
            "/usr/local/lib/python3.6/dist-packages/sklearn/model_selection/_split.py:1978: FutureWarning: The default value of cv will change from 3 to 5 in version 0.22. Specify it explicitly to silence this warning.\n",
            "  warnings.warn(CV_WARNING, FutureWarning)\n"
          ],
          "name": "stderr"
        },
        {
          "output_type": "stream",
          "text": [
            "Acurácia Dec_Tree: 92.199\n",
            "Melhores Parâmetros Dec_Tree:\n",
            " DecisionTreeClassifier(class_weight=None, criterion='gini', max_depth=None,\n",
            "                       max_features=None, max_leaf_nodes=None,\n",
            "                       min_impurity_decrease=0.0, min_impurity_split=None,\n",
            "                       min_samples_leaf=1, min_samples_split=20,\n",
            "                       min_weight_fraction_leaf=0.0, presort=False,\n",
            "                       random_state=None, splitter='best')\n"
          ],
          "name": "stdout"
        },
        {
          "output_type": "stream",
          "text": [
            "/usr/local/lib/python3.6/dist-packages/sklearn/model_selection/_split.py:1978: FutureWarning: The default value of cv will change from 3 to 5 in version 0.22. Specify it explicitly to silence this warning.\n",
            "  warnings.warn(CV_WARNING, FutureWarning)\n"
          ],
          "name": "stderr"
        },
        {
          "output_type": "stream",
          "text": [
            "Acurácia GB_Class: 95.890\n",
            "Melhores Parâmetros GB_Class:\n",
            " GradientBoostingClassifier(criterion='friedman_mse', init=None,\n",
            "                           learning_rate=0.5, loss='deviance', max_depth=50,\n",
            "                           max_features=0.5, max_leaf_nodes=50,\n",
            "                           min_impurity_decrease=0, min_impurity_split=None,\n",
            "                           min_samples_leaf=10, min_samples_split=10,\n",
            "                           min_weight_fraction_leaf=0.0, n_estimators=50,\n",
            "                           n_iter_no_change=None, presort='auto',\n",
            "                           random_state=None, subsample=1.0, tol=0.0001,\n",
            "                           validation_fraction=0.1, verbose=0,\n",
            "                           warm_start=False)\n"
          ],
          "name": "stdout"
        }
      ]
    },
    {
      "cell_type": "markdown",
      "metadata": {
        "id": "qxZ4T402U5Wb",
        "colab_type": "text"
      },
      "source": [
        "# FASE FINAL: Avaliação dos Melhores Modelos"
      ]
    },
    {
      "cell_type": "code",
      "metadata": {
        "id": "7__-UEyI8Y7b",
        "colab_type": "code",
        "colab": {}
      },
      "source": [
        "# função para criar a matriz de confusão\n",
        "# fonte: documentação do sklearn\n",
        "\n",
        "def plot_confusion_matrix(y_true,\n",
        "                          y_pred, \n",
        "                          classes,\n",
        "                          nome_modelo,\n",
        "                          normalize = False,\n",
        "                          title     = None,\n",
        "                          cmap      = plt.cm.OrRd):\n",
        "\n",
        "    title = 'Matriz de Confusão ' + nome_modelo\n",
        "\n",
        "    # Compute confusion matrix\n",
        "    cm = confusion_matrix(y_true, y_pred)\n",
        "    # Only use the labels that appear in the data\n",
        "    classes = unique_labels(y_true, y_pred)\n",
        "\n",
        "    fig, ax = plt.subplots()\n",
        "    im = ax.imshow(cm, interpolation='nearest', cmap=cmap)\n",
        "    ax.figure.colorbar(im, ax = ax)\n",
        "    # We want to show all ticks...\n",
        "    ax.set(xticks=np.arange(cm.shape[1]),\n",
        "           yticks=np.arange(cm.shape[0]),\n",
        "           # ... and label them with the respective list entries\n",
        "           xticklabels=classes, yticklabels=classes,\n",
        "           title=title,\n",
        "           ylabel='Categoria real',\n",
        "           xlabel='Categoria predita')\n",
        "\n",
        "    # Rotate the tick labels and set their alignment.\n",
        "    plt.setp(ax.get_xticklabels(), rotation=45, ha=\"right\",\n",
        "             rotation_mode=\"anchor\")\n",
        "\n",
        "    # Loop over data dimensions and create text annotations.\n",
        "    fmt = '.2f' if normalize else 'd'\n",
        "    thresh = cm.max() / 2.\n",
        "    for i in range(cm.shape[0]):\n",
        "        for j in range(cm.shape[1]):\n",
        "            ax.text(j, i, format(cm[i, j], fmt),\n",
        "                    ha=\"center\", va=\"center\",\n",
        "                    color=\"white\" if cm[i, j] > thresh else \"black\")\n",
        "    fig.tight_layout()\n",
        "    return ax\n",
        "\n",
        "\n",
        "np.set_printoptions(precision = 2)"
      ],
      "execution_count": 0,
      "outputs": []
    },
    {
      "cell_type": "code",
      "metadata": {
        "id": "rqmiXKSHJCN1",
        "colab_type": "code",
        "colab": {}
      },
      "source": [
        "# função para calcular e plotar AUC\n",
        "# fonte: https://machinelearningmastery.com\n",
        "def plot_auc(x_validacao, y_validacao, modelo_ml):\n",
        "  # predizer probabilidades\n",
        "  probs = modelo_ml.predict_proba(x_validacao)\n",
        "  # manter somente as saídas positivas das probabilidades\n",
        "  probs = probs[:, 1]\n",
        "  # calcular AUC\n",
        "  auc = roc_auc_score(y_validacao, probs)\n",
        "  print('AUC: %.3f' % auc)\n",
        "  # calculate roc curve\n",
        "  fpr, tpr, thresholds = roc_curve(y_validacao, probs)\n",
        "  # imprimir linha divisora (no skill)\n",
        "  plt.plot([0, 1], [0, 1], linestyle='--')\n",
        "  # plotar AUC para o modelo\n",
        "  plt.plot(fpr, tpr, marker = '.')\n",
        "  # exibir o plot\n",
        "  plt.show()"
      ],
      "execution_count": 0,
      "outputs": []
    },
    {
      "cell_type": "code",
      "metadata": {
        "id": "MVeaXAD_P9V8",
        "colab_type": "code",
        "colab": {}
      },
      "source": [
        "# avaliar o resultado usando matriz de confusão e a área sob a curva em cada modelo:\n",
        "# divisão dos dados de validação:\n",
        "df_validacao = df_teste.drop('churn', axis = 1)\n",
        "df_vl_target = df_teste['churn']\n",
        "\n",
        "# rótulos da classe que se quer prever:\n",
        "nm_clss_alvo = [0, 1]"
      ],
      "execution_count": 0,
      "outputs": []
    },
    {
      "cell_type": "code",
      "metadata": {
        "id": "axiTrP8Agwox",
        "colab_type": "code",
        "colab": {}
      },
      "source": [
        "# fazer as predições sobre o dataset de teste, com os valores apurados de hiperparâmetro nos melhores modelos:\n",
        "y_pred_grid_GB_Class = grid_GB_Class.predict(df_validacao)\n",
        "y_pred_grid_XGB      = grid_XGB.predict(df_validacao)\n",
        "y_pred_grid_Dec_Tree = grid_Dec_Tree.predict(df_validacao)"
      ],
      "execution_count": 0,
      "outputs": []
    },
    {
      "cell_type": "code",
      "metadata": {
        "id": "l0Myc5Ugku13",
        "colab_type": "code",
        "outputId": "511e2cf6-28d8-47ad-e5f2-b06d78e20268",
        "colab": {
          "base_uri": "https://localhost:8080/",
          "height": 297
        }
      },
      "source": [
        "# Matriz de confusão para Gradient Boosting\n",
        "plot_confusion_matrix(df_vl_target,\n",
        "                      y_pred_grid_GB_Class,\n",
        "                      nm_clss_alvo,\n",
        "                      nome_modelo = 'GB_Class')\n",
        "\n",
        "plt.show()"
      ],
      "execution_count": 46,
      "outputs": [
        {
          "output_type": "display_data",
          "data": {
            "image/png": "[encoded data removed]",
            "text/plain": [
              "<Figure size 432x288 with 2 Axes>"
            ]
          },
          "metadata": {
            "tags": []
          }
        }
      ]
    },
    {
      "cell_type": "code",
      "metadata": {
        "id": "QepeTgPnuS2X",
        "colab_type": "code",
        "outputId": "bcc088ff-5468-4c5d-e24f-984f70da1d48",
        "colab": {
          "base_uri": "https://localhost:8080/",
          "height": 297
        }
      },
      "source": [
        "# Matriz de confusão para Classificador XGB\n",
        "plot_confusion_matrix(df_vl_target,\n",
        "                      y_pred_grid_XGB,\n",
        "                      nm_clss_alvo,\n",
        "                      nome_modelo = 'XGB')\n",
        "\n",
        "plt.show()"
      ],
      "execution_count": 47,
      "outputs": [
        {
          "output_type": "display_data",
          "data": {
            "image/png": "[encoded data removed]",
            "text/plain": [
              "<Figure size 432x288 with 2 Axes>"
            ]
          },
          "metadata": {
            "tags": []
          }
        }
      ]
    },
    {
      "cell_type": "code",
      "metadata": {
        "id": "2SzBzypHua-O",
        "colab_type": "code",
        "outputId": "36f1fc59-ebd0-46c4-8db9-98aaf3df4c63",
        "colab": {
          "base_uri": "https://localhost:8080/",
          "height": 297
        }
      },
      "source": [
        "# Matriz de confusão para Árvores de Decisão\n",
        "plot_confusion_matrix(df_vl_target,\n",
        "                      y_pred_grid_Dec_Tree,\n",
        "                      nm_clss_alvo,\n",
        "                      nome_modelo = 'Dec_Tree')\n",
        "\n",
        "plt.show()"
      ],
      "execution_count": 49,
      "outputs": [
        {
          "output_type": "display_data",
          "data": {
            "image/png": "[encoded data removed]",
            "text/plain": [
              "<Figure size 432x288 with 2 Axes>"
            ]
          },
          "metadata": {
            "tags": []
          }
        }
      ]
    },
    {
      "cell_type": "code",
      "metadata": {
        "id": "aA5_KPE7k9ZM",
        "colab_type": "code",
        "outputId": "0a575c63-7c03-4b8d-bc10-b34aa6225d8f",
        "colab": {
          "base_uri": "https://localhost:8080/",
          "height": 286
        }
      },
      "source": [
        "plot_auc(df_validacao, df_vl_target, grid_GB_Class)"
      ],
      "execution_count": 57,
      "outputs": [
        {
          "output_type": "stream",
          "text": [
            "AUC: 0.924\n"
          ],
          "name": "stdout"
        },
        {
          "output_type": "display_data",
          "data": {
            "image/png": "[encoded data removed]",
            "text/plain": [
              "<Figure size 432x288 with 1 Axes>"
            ]
          },
          "metadata": {
            "tags": []
          }
        }
      ]
    },
    {
      "cell_type": "code",
      "metadata": {
        "id": "J06O59kXmsJc",
        "colab_type": "code",
        "outputId": "33fd05de-139e-4a87-8989-09af8836d46a",
        "colab": {
          "base_uri": "https://localhost:8080/",
          "height": 286
        }
      },
      "source": [
        "plot_auc(df_validacao, df_vl_target, grid_XGB)"
      ],
      "execution_count": 58,
      "outputs": [
        {
          "output_type": "stream",
          "text": [
            "AUC: 0.931\n"
          ],
          "name": "stdout"
        },
        {
          "output_type": "display_data",
          "data": {
            "image/png": "[encoded data removed]",
            "text/plain": [
              "<Figure size 432x288 with 1 Axes>"
            ]
          },
          "metadata": {
            "tags": []
          }
        }
      ]
    },
    {
      "cell_type": "code",
      "metadata": {
        "id": "JFqgHgJOnx29",
        "colab_type": "code",
        "outputId": "d0a58605-01a2-4635-e55d-2b12b1cfa776",
        "colab": {
          "base_uri": "https://localhost:8080/",
          "height": 286
        }
      },
      "source": [
        "plot_auc(df_validacao, df_vl_target, grid_Dec_Tree)"
      ],
      "execution_count": 59,
      "outputs": [
        {
          "output_type": "stream",
          "text": [
            "AUC: 0.882\n"
          ],
          "name": "stdout"
        },
        {
          "output_type": "display_data",
          "data": {
            "image/png": "[encoded data removed]",
            "text/plain": [
              "<Figure size 432x288 with 1 Axes>"
            ]
          },
          "metadata": {
            "tags": []
          }
        }
      ]
    },
    {
      "cell_type": "markdown",
      "metadata": {
        "id": "k2NM60mVVCsP",
        "colab_type": "text"
      },
      "source": [
        "Para estes conjuntos de dados, foi verificado que os modelos que retornam os melhores resultados de predição são **XGB** e o **Gradient Boosting**. O XGB foi levemente superior na avaliação sob a ótica da Área Sob a Curva, já o Gradiente Boosting apresentou menor quantidade de erros (4 apenas) na matriz de confusão. Esta avaliação levou em consideração duas medidas: a matriz de confusão é a área sob a curva."
      ]
    }
  ]
}