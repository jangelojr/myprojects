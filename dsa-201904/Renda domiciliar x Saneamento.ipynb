{
 "cells": [
  {
   "cell_type": "markdown",
   "metadata": {},
   "source": [
    "## Concurso de Visualização de Dados da Data Science Academy\n",
    "\n",
    "Fonte dos dados: sistema SIDRA do IBGE\n",
    "\n",
    "Repositório deste notebook: https://github.com/jangelojr/dsavisualizacao"
   ]
  },
  {
   "cell_type": "code",
   "execution_count": 1,
   "metadata": {},
   "outputs": [],
   "source": [
    "import pandas            as pd\n",
    "import numpy             as np\n",
    "import plotly.plotly     as py\n",
    "import plotly.graph_objs as go\n",
    "import plotly\n",
    "from plotly import tools"
   ]
  },
  {
   "cell_type": "code",
   "execution_count": 2,
   "metadata": {},
   "outputs": [],
   "source": [
    "# Tabela de saneamento\n",
    "tabela1160 = pd.read_excel('Tabela1160.xlsx')\n",
    "# Tabela de internações\n",
    "tabela898  = pd.read_excel('Tabela898.xlsx')\n",
    "# Tabela de renda\n",
    "tabela3734 = pd.read_excel('Tabela3734.xlsx')"
   ]
  },
  {
   "cell_type": "code",
   "execution_count": 3,
   "metadata": {},
   "outputs": [
    {
     "name": "stdout",
     "output_type": "stream",
     "text": [
      "      Ano Unidade da Federação Tipo de esgotamento sanitário  \\\n",
      "0  2015.0             Rondônia                 Rede coletora   \n",
      "1     NaN                  NaN                 Fossa séptica   \n",
      "2     NaN                  NaN              Fossa rudimentar   \n",
      "3     NaN                  NaN                          Vala   \n",
      "4     NaN                  NaN  Direto para rio, lago ou mar   \n",
      "\n",
      "   % moradores em domicílios particulares permanentes  \n",
      "0                                               10.1   \n",
      "1                                               45.2   \n",
      "2                                               43.7   \n",
      "3                                                0.1   \n",
      "4                                                0.3   \n",
      "      Ano Unidade da Federação  \\\n",
      "0  2015.0             Rondônia   \n",
      "1     NaN                  NaN   \n",
      "2     NaN                  NaN   \n",
      "3     NaN                  NaN   \n",
      "4     NaN                 Acre   \n",
      "\n",
      "  Classes de rendimento mensal domiciliar per capita  \\\n",
      "0                             Até 1/2 salário mínimo   \n",
      "1                     Mais de 1/2 a 1 salário mínimo   \n",
      "2                     Mais de 1 a 2 salários mínimos   \n",
      "3                         Mais de 2 salários mínimos   \n",
      "4                             Até 1/2 salário mínimo   \n",
      "\n",
      "   % rendimento mensal domiciliar (salários mínimos)  \n",
      "0                                               20.4  \n",
      "1                                               30.7  \n",
      "2                                               29.9  \n",
      "3                                               17.2  \n",
      "4                                               33.6  \n",
      "      Ano Unidade da Federação                       Categorias de doenças  \\\n",
      "0  2015.0             Rondônia                    De transmissão feco-oral   \n",
      "1     NaN                  NaN                Tansmitidas por inseto vetor   \n",
      "2     NaN                  NaN  Transmitidas através do contato com a água   \n",
      "3     NaN                  NaN                  Relacionadas com a higiene   \n",
      "4     NaN                  NaN                    Geo-helmintos e teníases   \n",
      "\n",
      "   Internações relacionadas a saneamento inadequado (a cada 100 mil)  \n",
      "0                                              196.0                  \n",
      "1                                               90.8                  \n",
      "2                                                1.4                  \n",
      "3                                                0.4                  \n",
      "4                                                0.7                  \n"
     ]
    }
   ],
   "source": [
    "# Checar resultados\n",
    "print(tabela1160.head())\n",
    "print(tabela3734.head())\n",
    "print(tabela898.head())"
   ]
  },
  {
   "cell_type": "code",
   "execution_count": 4,
   "metadata": {},
   "outputs": [],
   "source": [
    "# preencher valores vazios com o imediatamente anterior\n",
    "saneamento  = tabela1160.fillna(method='ffill')\n",
    "internacoes = tabela898.fillna(method='ffill')\n",
    "renda       = tabela3734.fillna(method='ffill')"
   ]
  },
  {
   "cell_type": "code",
   "execution_count": 5,
   "metadata": {},
   "outputs": [],
   "source": [
    "# Eliminar a variável ano (dados referem-se ao ano de 2015 em todos)\n",
    "saneamento.drop(['Ano'],  axis = 1, inplace = True)\n",
    "internacoes.drop(['Ano'], axis = 1, inplace = True)\n",
    "renda.drop(['Ano'],       axis = 1, inplace = True)"
   ]
  },
  {
   "cell_type": "code",
   "execution_count": 6,
   "metadata": {},
   "outputs": [
    {
     "name": "stdout",
     "output_type": "stream",
     "text": [
      "  Unidade da Federação Tipo de esgotamento sanitário  \\\n",
      "0             Rondônia                 Rede coletora   \n",
      "1             Rondônia                 Fossa séptica   \n",
      "2             Rondônia              Fossa rudimentar   \n",
      "3             Rondônia                          Vala   \n",
      "4             Rondônia  Direto para rio, lago ou mar   \n",
      "\n",
      "   % moradores em domicílios particulares permanentes  \n",
      "0                                               10.1   \n",
      "1                                               45.2   \n",
      "2                                               43.7   \n",
      "3                                                0.1   \n",
      "4                                                0.3   \n",
      "  Unidade da Federação Classes de rendimento mensal domiciliar per capita  \\\n",
      "0             Rondônia                             Até 1/2 salário mínimo   \n",
      "1             Rondônia                     Mais de 1/2 a 1 salário mínimo   \n",
      "2             Rondônia                     Mais de 1 a 2 salários mínimos   \n",
      "3             Rondônia                         Mais de 2 salários mínimos   \n",
      "4                 Acre                             Até 1/2 salário mínimo   \n",
      "\n",
      "   % rendimento mensal domiciliar (salários mínimos)  \n",
      "0                                               20.4  \n",
      "1                                               30.7  \n",
      "2                                               29.9  \n",
      "3                                               17.2  \n",
      "4                                               33.6  \n",
      "  Unidade da Federação                       Categorias de doenças  \\\n",
      "0             Rondônia                    De transmissão feco-oral   \n",
      "1             Rondônia                Tansmitidas por inseto vetor   \n",
      "2             Rondônia  Transmitidas através do contato com a água   \n",
      "3             Rondônia                  Relacionadas com a higiene   \n",
      "4             Rondônia                    Geo-helmintos e teníases   \n",
      "\n",
      "   Internações relacionadas a saneamento inadequado (a cada 100 mil)  \n",
      "0                                              196.0                  \n",
      "1                                               90.8                  \n",
      "2                                                1.4                  \n",
      "3                                                0.4                  \n",
      "4                                                0.7                  \n"
     ]
    }
   ],
   "source": [
    "# Checar resultados\n",
    "print(saneamento.head())\n",
    "print(renda.head())\n",
    "print(internacoes.head())"
   ]
  },
  {
   "cell_type": "code",
   "execution_count": 7,
   "metadata": {},
   "outputs": [],
   "source": [
    "# fazer pivot_table dos valores e reiniciar os índices\n",
    "saneamento  = pd.pivot_table(saneamento, values = '% moradores em domicílios particulares permanentes'\n",
    "                           , index   = 'Unidade da Federação'\n",
    "                           , columns = 'Tipo de esgotamento sanitário')\n",
    "\n",
    "renda       = pd.pivot_table(renda, values = '% rendimento mensal domiciliar (salários mínimos)'\n",
    "                           , index   = 'Unidade da Federação'\n",
    "                           , columns = 'Classes de rendimento mensal domiciliar per capita')\n",
    "\n",
    "internacoes = pd.pivot_table(internacoes, values = 'Internações relacionadas a saneamento inadequado (a cada 100 mil)'\n",
    "                           , index   = 'Unidade da Federação'\n",
    "                           , columns = 'Categorias de doenças')\n",
    "\n",
    "saneamento.reset_index(level=0, inplace=True)\n",
    "renda.reset_index(level=0, inplace=True)\n",
    "internacoes.reset_index(level=0, inplace=True)"
   ]
  },
  {
   "cell_type": "code",
   "execution_count": 8,
   "metadata": {},
   "outputs": [],
   "source": [
    "# Já que o índice não reinicia, salvar o df como csv e importá-lo novamente\n",
    "saneamento.to_csv('saneamento.csv', index = False)\n",
    "renda.to_csv('renda.csv', index = False)\n",
    "internacoes.to_csv('internacoes.csv', index = False)\n",
    "\n",
    "saneamento  = pd.read_csv('saneamento.csv')\n",
    "renda       = pd.read_csv('renda.csv')\n",
    "internacoes = pd.read_csv('internacoes.csv')"
   ]
  },
  {
   "cell_type": "markdown",
   "metadata": {},
   "source": [
    "# Gráficos"
   ]
  },
  {
   "cell_type": "markdown",
   "metadata": {},
   "source": [
    "1. Referente aos dados sobre saneamento"
   ]
  },
  {
   "cell_type": "code",
   "execution_count": 9,
   "metadata": {},
   "outputs": [],
   "source": [
    "data_saneamento = [\n",
    "    go.Bar(\n",
    "        x = saneamento['Unidade da Federação'],\n",
    "        y = saneamento['Direto para rio, lago ou mar'],\n",
    "        name = 'Direto para rio, lago ou mar'\n",
    "    ),\n",
    "    go.Bar(\n",
    "        x = saneamento['Unidade da Federação'],\n",
    "        y = saneamento['Fossa rudimentar'],\n",
    "        name = 'Fossa rudimentar'\n",
    "    ),\n",
    "    go.Bar(\n",
    "        x = saneamento['Unidade da Federação'],\n",
    "        y = saneamento['Fossa séptica'],\n",
    "        name = 'Fossa séptica'\n",
    "    ),\n",
    "    go.Bar(\n",
    "        x = saneamento['Unidade da Federação'],\n",
    "        y = saneamento['Não tinham'],\n",
    "        name = 'Não tinham'\n",
    "    ),\n",
    "    go.Bar(\n",
    "        x = saneamento['Unidade da Federação'],\n",
    "        y = saneamento['Outro tipo'],\n",
    "        name = 'Outro tipo'\n",
    "    ),\n",
    "    go.Bar(\n",
    "        x = saneamento['Unidade da Federação'],\n",
    "        y = saneamento['Rede coletora'],\n",
    "        name = 'Rede coletora'\n",
    "    ),\n",
    "    go.Bar(\n",
    "        x = saneamento['Unidade da Federação'],\n",
    "        y = saneamento['Vala'],\n",
    "        name = 'Vala'\n",
    "    )]"
   ]
  },
  {
   "cell_type": "code",
   "execution_count": 10,
   "metadata": {},
   "outputs": [
    {
     "name": "stderr",
     "output_type": "stream",
     "text": [
      "/home/angelo/anaconda3/lib/python3.7/site-packages/IPython/core/display.py:689: UserWarning:\n",
      "\n",
      "Consider using IPython.display.IFrame instead\n",
      "\n"
     ]
    },
    {
     "data": {
      "text/html": [
       "<iframe id=\"igraph\" scrolling=\"no\" style=\"border:none;\" seamless=\"seamless\" src=\"https://plot.ly/~jangelojr/5.embed\" height=\"525px\" width=\"100%\"></iframe>"
      ],
      "text/plain": [
       "<chart_studio.tools.PlotlyDisplay object>"
      ]
     },
     "execution_count": 10,
     "metadata": {},
     "output_type": "execute_result"
    }
   ],
   "source": [
    "layout_saneamento = go.Layout(\n",
    "    barmode = 'stack',\n",
    "    title   = 'Acesso ao Saneamento')\n",
    "\n",
    "fig = go.Figure(data = data_saneamento, layout = layout_saneamento)\n",
    "py.iplot(fig, filename='pandas-bar-chart-layout')"
   ]
  },
  {
   "cell_type": "markdown",
   "metadata": {},
   "source": [
    "2. Referente aos dados sobre renda"
   ]
  },
  {
   "cell_type": "code",
   "execution_count": 11,
   "metadata": {},
   "outputs": [],
   "source": [
    "data_renda = [\n",
    "    go.Bar(\n",
    "        x = renda['Unidade da Federação'],\n",
    "        y = renda['Até 1/2 salário mínimo'],\n",
    "        name = 'Até 1/2 salário mínimo'\n",
    "    ),\n",
    "    go.Bar(\n",
    "        x = renda['Unidade da Federação'],\n",
    "        y = renda['Mais de 1/2 a 1 salário mínimo'],\n",
    "        name = 'Mais de 1/2 a 1 salário mínimo'\n",
    "    ),\n",
    "    go.Bar(\n",
    "        x = renda['Unidade da Federação'],\n",
    "        y = renda['Mais de 1 a 2 salários mínimos'],\n",
    "        name = 'Mais de 1 a 2 salários mínimos'\n",
    "    ),\n",
    "    go.Bar(\n",
    "        x = renda['Unidade da Federação'],\n",
    "        y = renda['Mais de 2 salários mínimos'],\n",
    "        name = 'Mais de 2 salários mínimos'\n",
    "    )]"
   ]
  },
  {
   "cell_type": "code",
   "execution_count": 12,
   "metadata": {},
   "outputs": [
    {
     "data": {
      "text/html": [
       "<iframe id=\"igraph\" scrolling=\"no\" style=\"border:none;\" seamless=\"seamless\" src=\"https://plot.ly/~jangelojr/5.embed\" height=\"525px\" width=\"100%\"></iframe>"
      ],
      "text/plain": [
       "<chart_studio.tools.PlotlyDisplay object>"
      ]
     },
     "execution_count": 12,
     "metadata": {},
     "output_type": "execute_result"
    }
   ],
   "source": [
    "layout_renda = go.Layout(\n",
    "    barmode  = 'stack',\n",
    "    title    = 'Renda Domiciliar (em salários mínimos)')\n",
    "\n",
    "fig = go.Figure(data = data_renda, layout = layout_renda)\n",
    "py.iplot(fig, filename='pandas-bar-chart-layout')"
   ]
  },
  {
   "cell_type": "markdown",
   "metadata": {},
   "source": [
    "3. Referente aos dados sobre internações"
   ]
  },
  {
   "cell_type": "code",
   "execution_count": 13,
   "metadata": {},
   "outputs": [],
   "source": [
    "data_internacoes = [\n",
    "    go.Bar(\n",
    "        x = internacoes['Unidade da Federação'],\n",
    "        y = internacoes['De transmissão feco-oral'],\n",
    "        name = 'De transmissão feco-oral'\n",
    "    ),\n",
    "    go.Bar(\n",
    "        x = internacoes['Unidade da Federação'],\n",
    "        y = internacoes['Tansmitidas por inseto vetor'],\n",
    "        name = 'Tansmitidas por inseto vetor'\n",
    "    ),\n",
    "    go.Bar(\n",
    "        x = internacoes['Unidade da Federação'],\n",
    "        y = internacoes['Transmitidas através do contato com a água'],\n",
    "        name = 'Transmitidas através do contato com a água'\n",
    "    ),\n",
    "    go.Bar(\n",
    "        x = internacoes['Unidade da Federação'],\n",
    "        y = internacoes['Geo-helmintos e teníases'],\n",
    "        name = 'Geo-helmintos e teníases'\n",
    "    ),\n",
    "    go.Bar(\n",
    "        x = internacoes['Unidade da Federação'],\n",
    "        y = internacoes['Relacionadas com a higiene'],\n",
    "        name = 'Relacionadas com a higiene'\n",
    "    )]"
   ]
  },
  {
   "cell_type": "code",
   "execution_count": 14,
   "metadata": {},
   "outputs": [
    {
     "data": {
      "text/html": [
       "<iframe id=\"igraph\" scrolling=\"no\" style=\"border:none;\" seamless=\"seamless\" src=\"https://plot.ly/~jangelojr/5.embed\" height=\"525px\" width=\"100%\"></iframe>"
      ],
      "text/plain": [
       "<chart_studio.tools.PlotlyDisplay object>"
      ]
     },
     "execution_count": 14,
     "metadata": {},
     "output_type": "execute_result"
    }
   ],
   "source": [
    "layout_internacoes = go.Layout(\n",
    "    barmode = 'stack',\n",
    "    title   = 'Internações por doenças relacioanadas ao saneamento inadequado (por cem mil hab)')\n",
    "\n",
    "fig = go.Figure(data = data_internacoes, layout = layout_internacoes)\n",
    "py.iplot(fig, filename='pandas-bar-chart-layout')"
   ]
  }
 ],
 "metadata": {
  "kernelspec": {
   "display_name": "Python 3",
   "language": "python",
   "name": "python3"
  },
  "language_info": {
   "codemirror_mode": {
    "name": "ipython",
    "version": 3
   },
   "file_extension": ".py",
   "mimetype": "text/x-python",
   "name": "python",
   "nbconvert_exporter": "python",
   "pygments_lexer": "ipython3",
   "version": "3.7.1"
  }
 },
 "nbformat": 4,
 "nbformat_minor": 2
}
